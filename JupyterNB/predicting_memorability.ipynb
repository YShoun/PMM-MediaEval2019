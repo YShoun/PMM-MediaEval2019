{
 "cells": [
  {
   "cell_type": "markdown",
   "metadata": {
    "colab_type": "text",
    "id": "5I6lZewao3ji"
   },
   "source": [
    "# An analysis of video memorability using Caption features\n",
    "Yong Shoun_PHO_19211938"
   ]
  },
  {
   "cell_type": "markdown",
   "metadata": {
    "colab_type": "text",
    "id": "KIjGDwLrjfqL"
   },
   "source": [
    "## I. Setting up"
   ]
  },
  {
   "cell_type": "markdown",
   "metadata": {
    "colab_type": "text",
    "id": "GV0qeYF7Zbv_"
   },
   "source": [
    "Mouting Gdrive and setting up the default directory"
   ]
  },
  {
   "cell_type": "code",
   "execution_count": null,
   "metadata": {
    "colab": {
     "base_uri": "https://localhost:8080/",
     "height": 128
    },
    "colab_type": "code",
    "id": "1r-k7STOiMQC",
    "outputId": "36c10276-62cd-4eed-939c-3e4a0b1166ae"
   },
   "outputs": [],
   "source": [
    "from google.colab import drive\n",
    "import os\n",
    "drive.mount('/content/drive/')\n",
    "os.chdir('/content/drive/My Drive/Study/DCU Semester 2/Machine Learning/CA684_Assignment/')"
   ]
  },
  {
   "cell_type": "markdown",
   "metadata": {
    "colab_type": "text",
    "id": "zldljanLZksF"
   },
   "source": [
    "Installing extra libraries"
   ]
  },
  {
   "cell_type": "code",
   "execution_count": null,
   "metadata": {
    "colab": {
     "base_uri": "https://localhost:8080/",
     "height": 419
    },
    "colab_type": "code",
    "id": "gtRno4kVivw3",
    "outputId": "71df77b7-7ce3-4261-9231-dbaefa8a5a8c"
   },
   "outputs": [
    {
     "name": "stdout",
     "output_type": "stream",
     "text": [
      "Collecting pyprind\n",
      "  Downloading https://files.pythonhosted.org/packages/1e/30/e76fb0c45da8aef49ea8d2a90d4e7a6877b45894c25f12fb961f009a891e/PyPrind-2.11.2-py3-none-any.whl\n",
      "Installing collected packages: pyprind\n",
      "Successfully installed pyprind-2.11.2\n",
      "Requirement already satisfied: textblob in /usr/local/lib/python3.6/dist-packages (0.15.3)\n",
      "Requirement already satisfied: nltk>=3.1 in /usr/local/lib/python3.6/dist-packages (from textblob) (3.2.5)\n",
      "Requirement already satisfied: six in /usr/local/lib/python3.6/dist-packages (from nltk>=3.1->textblob) (1.12.0)\n",
      "[nltk_data] Downloading package brown to /root/nltk_data...\n",
      "[nltk_data]   Unzipping corpora/brown.zip.\n",
      "[nltk_data] Downloading package punkt to /root/nltk_data...\n",
      "[nltk_data]   Unzipping tokenizers/punkt.zip.\n",
      "[nltk_data] Downloading package wordnet to /root/nltk_data...\n",
      "[nltk_data]   Unzipping corpora/wordnet.zip.\n",
      "[nltk_data] Downloading package averaged_perceptron_tagger to\n",
      "[nltk_data]     /root/nltk_data...\n",
      "[nltk_data]   Unzipping taggers/averaged_perceptron_tagger.zip.\n",
      "[nltk_data] Downloading package conll2000 to /root/nltk_data...\n",
      "[nltk_data]   Unzipping corpora/conll2000.zip.\n",
      "[nltk_data] Downloading package movie_reviews to /root/nltk_data...\n",
      "[nltk_data]   Unzipping corpora/movie_reviews.zip.\n",
      "Finished.\n"
     ]
    }
   ],
   "source": [
    "!pip install pyprind\n",
    "!pip install textblob\n",
    "!python -m textblob.download_corpora"
   ]
  },
  {
   "cell_type": "code",
   "execution_count": null,
   "metadata": {
    "colab": {
     "base_uri": "https://localhost:8080/",
     "height": 35
    },
    "colab_type": "code",
    "id": "9sfQHaLbqsTK",
    "outputId": "3d478aba-5a98-49bb-f4eb-2ebc2698b36b"
   },
   "outputs": [
    {
     "name": "stderr",
     "output_type": "stream",
     "text": [
      "Using TensorFlow backend.\n"
     ]
    }
   ],
   "source": [
    "import pandas as pd\n",
    "import numpy as np\n",
    "\n",
    "from keras import Sequential\n",
    "from keras import layers\n",
    "from keras import regularizers\n",
    "from keras.preprocessing.text import Tokenizer\n",
    "\n",
    "from sklearn.model_selection import train_test_split\n",
    "from sklearn.feature_extraction.text import TfidfVectorizer\n",
    "\n",
    "from nltk.corpus import stopwords\n",
    "import nltk\n",
    "\n",
    "from textblob import Word\n",
    "\n",
    "import pickle\n",
    "\n",
    "from string import punctuation\n",
    "import pyprind\n",
    "from collections import Counter\n",
    "import matplotlib.pyplot as plt"
   ]
  },
  {
   "cell_type": "markdown",
   "metadata": {
    "colab_type": "text",
    "id": "1cvQydU2jSYT"
   },
   "source": [
    "## II. Basic functions"
   ]
  },
  {
   "cell_type": "markdown",
   "metadata": {
    "colab_type": "text",
    "id": "DIo52UmIk9J2"
   },
   "source": [
    "Calculate Spearman Score"
   ]
  },
  {
   "cell_type": "code",
   "execution_count": null,
   "metadata": {
    "colab": {},
    "colab_type": "code",
    "id": "4XB7elkih484"
   },
   "outputs": [],
   "source": [
    "def Get_score(Y_pred,Y_true):\n",
    "    '''Calculate the Spearmann\"s correlation coefficient'''\n",
    "    Y_pred = np.squeeze(Y_pred)\n",
    "    Y_true = np.squeeze(Y_true)\n",
    "    if Y_pred.shape != Y_true.shape:\n",
    "        print('Input shapes don\\'t match!')\n",
    "    else:\n",
    "        if len(Y_pred.shape) == 1:\n",
    "            Res = pd.DataFrame({'Y_true':Y_true,'Y_pred':Y_pred})\n",
    "            score_mat = Res[['Y_true','Y_pred']].corr(method='spearman',min_periods=1)\n",
    "            print('The Spearman\\'s correlation coefficient is: %.3f' % score_mat.iloc[1][0])\n",
    "        else:\n",
    "            for ii in range(Y_pred.shape[1]):\n",
    "                Get_score(Y_pred[:,ii],Y_true[:,ii])"
   ]
  },
  {
   "cell_type": "markdown",
   "metadata": {
    "colab_type": "text",
    "id": "iUQf-qYkpdEj"
   },
   "source": [
    "## III. Loading the data"
   ]
  },
  {
   "cell_type": "code",
   "execution_count": null,
   "metadata": {
    "colab": {},
    "colab_type": "code",
    "id": "FoBC2RNwkPbn"
   },
   "outputs": [],
   "source": [
    "# load labels and captions\n",
    "def read_caps(filename):\n",
    "    \"\"\"Load the captions into a dataframe\"\"\"\n",
    "    thevideos = []\n",
    "    thecaptions = []\n",
    "    temp_df = pd.DataFrame();\n",
    "    with open(filename) as f:\n",
    "        for line in f:\n",
    "            pairs = line.split()\n",
    "            thevideos.append(pairs[0])\n",
    "            thecaptions.append(pairs[1])\n",
    "        temp_df['video']=thevideos\n",
    "        temp_df['caption']=thecaptions\n",
    "    return temp_df\n",
    "\n",
    "\n",
    "# load the captions\n",
    "cap_path = './Dev-set/Captions/dev-set_video-captions.txt'\n",
    "df_caption = read_caps(cap_path)\n",
    "\n",
    "# load the ground truth values\n",
    "label_path = './Dev-set/Ground-truth/'\n",
    "df_labels = pd.read_csv(label_path+'ground-truth.csv')"
   ]
  },
  {
   "cell_type": "code",
   "execution_count": null,
   "metadata": {
    "colab": {
     "base_uri": "https://localhost:8080/",
     "height": 143
    },
    "colab_type": "code",
    "id": "jQ_Q5bRcklTO",
    "outputId": "bdc0b65c-3feb-4d27-a0d8-9b7238adb7dd"
   },
   "outputs": [
    {
     "data": {
      "text/html": [
       "<div>\n",
       "<style scoped>\n",
       "    .dataframe tbody tr th:only-of-type {\n",
       "        vertical-align: middle;\n",
       "    }\n",
       "\n",
       "    .dataframe tbody tr th {\n",
       "        vertical-align: top;\n",
       "    }\n",
       "\n",
       "    .dataframe thead th {\n",
       "        text-align: right;\n",
       "    }\n",
       "</style>\n",
       "<table border=\"1\" class=\"dataframe\">\n",
       "  <thead>\n",
       "    <tr style=\"text-align: right;\">\n",
       "      <th></th>\n",
       "      <th>video</th>\n",
       "      <th>caption</th>\n",
       "    </tr>\n",
       "  </thead>\n",
       "  <tbody>\n",
       "    <tr>\n",
       "      <th>0</th>\n",
       "      <td>video3.webm</td>\n",
       "      <td>blonde-woman-is-massaged-tilt-down</td>\n",
       "    </tr>\n",
       "    <tr>\n",
       "      <th>1</th>\n",
       "      <td>video4.webm</td>\n",
       "      <td>roulette-table-spinning-with-ball-in-closeup-shot</td>\n",
       "    </tr>\n",
       "    <tr>\n",
       "      <th>2</th>\n",
       "      <td>video6.webm</td>\n",
       "      <td>khr-gangsters</td>\n",
       "    </tr>\n",
       "  </tbody>\n",
       "</table>\n",
       "</div>"
      ],
      "text/plain": [
       "         video                                            caption\n",
       "0  video3.webm                 blonde-woman-is-massaged-tilt-down\n",
       "1  video4.webm  roulette-table-spinning-with-ball-in-closeup-shot\n",
       "2  video6.webm                                      khr-gangsters"
      ]
     },
     "execution_count": 6,
     "metadata": {
      "tags": []
     },
     "output_type": "execute_result"
    }
   ],
   "source": [
    "df_caption.head(3)"
   ]
  },
  {
   "cell_type": "code",
   "execution_count": null,
   "metadata": {
    "colab": {
     "base_uri": "https://localhost:8080/",
     "height": 143
    },
    "colab_type": "code",
    "id": "9J9uJkdvkqvk",
    "outputId": "4abf73e3-ec8d-4974-9f0b-512bf16f5d6e"
   },
   "outputs": [
    {
     "data": {
      "text/html": [
       "<div>\n",
       "<style scoped>\n",
       "    .dataframe tbody tr th:only-of-type {\n",
       "        vertical-align: middle;\n",
       "    }\n",
       "\n",
       "    .dataframe tbody tr th {\n",
       "        vertical-align: top;\n",
       "    }\n",
       "\n",
       "    .dataframe thead th {\n",
       "        text-align: right;\n",
       "    }\n",
       "</style>\n",
       "<table border=\"1\" class=\"dataframe\">\n",
       "  <thead>\n",
       "    <tr style=\"text-align: right;\">\n",
       "      <th></th>\n",
       "      <th>video</th>\n",
       "      <th>short-term_memorability</th>\n",
       "      <th>nb_short-term_annotations</th>\n",
       "      <th>long-term_memorability</th>\n",
       "      <th>nb_long-term_annotations</th>\n",
       "    </tr>\n",
       "  </thead>\n",
       "  <tbody>\n",
       "    <tr>\n",
       "      <th>0</th>\n",
       "      <td>video3.webm</td>\n",
       "      <td>0.924</td>\n",
       "      <td>34</td>\n",
       "      <td>0.846</td>\n",
       "      <td>13</td>\n",
       "    </tr>\n",
       "    <tr>\n",
       "      <th>1</th>\n",
       "      <td>video4.webm</td>\n",
       "      <td>0.923</td>\n",
       "      <td>33</td>\n",
       "      <td>0.667</td>\n",
       "      <td>12</td>\n",
       "    </tr>\n",
       "    <tr>\n",
       "      <th>2</th>\n",
       "      <td>video6.webm</td>\n",
       "      <td>0.863</td>\n",
       "      <td>33</td>\n",
       "      <td>0.700</td>\n",
       "      <td>10</td>\n",
       "    </tr>\n",
       "  </tbody>\n",
       "</table>\n",
       "</div>"
      ],
      "text/plain": [
       "         video  ...  nb_long-term_annotations\n",
       "0  video3.webm  ...                        13\n",
       "1  video4.webm  ...                        12\n",
       "2  video6.webm  ...                        10\n",
       "\n",
       "[3 rows x 5 columns]"
      ]
     },
     "execution_count": 7,
     "metadata": {
      "tags": []
     },
     "output_type": "execute_result"
    }
   ],
   "source": [
    "df_labels.head(3)"
   ]
  },
  {
   "cell_type": "markdown",
   "metadata": {
    "colab_type": "text",
    "id": "l-emK6ealbuv"
   },
   "source": [
    "## IV. Preprocessing the data"
   ]
  },
  {
   "cell_type": "markdown",
   "metadata": {
    "colab_type": "text",
    "id": "OxyS7bFgli2T"
   },
   "source": [
    "### 1.   Remove punctuation and lowercase captions\n",
    "\n",
    "\n",
    "\n"
   ]
  },
  {
   "cell_type": "code",
   "execution_count": null,
   "metadata": {
    "colab": {
     "base_uri": "https://localhost:8080/",
     "height": 143
    },
    "colab_type": "code",
    "id": "Pynl9dkhlRh-",
    "outputId": "b10b36f8-9cca-4764-c68b-c7906b422068"
   },
   "outputs": [
    {
     "data": {
      "text/html": [
       "<div>\n",
       "<style scoped>\n",
       "    .dataframe tbody tr th:only-of-type {\n",
       "        vertical-align: middle;\n",
       "    }\n",
       "\n",
       "    .dataframe tbody tr th {\n",
       "        vertical-align: top;\n",
       "    }\n",
       "\n",
       "    .dataframe thead th {\n",
       "        text-align: right;\n",
       "    }\n",
       "</style>\n",
       "<table border=\"1\" class=\"dataframe\">\n",
       "  <thead>\n",
       "    <tr style=\"text-align: right;\">\n",
       "      <th></th>\n",
       "      <th>video</th>\n",
       "      <th>caption</th>\n",
       "    </tr>\n",
       "  </thead>\n",
       "  <tbody>\n",
       "    <tr>\n",
       "      <th>0</th>\n",
       "      <td>video3.webm</td>\n",
       "      <td>blonde woman is massaged tilt down</td>\n",
       "    </tr>\n",
       "    <tr>\n",
       "      <th>1</th>\n",
       "      <td>video4.webm</td>\n",
       "      <td>roulette table spinning with ball in closeup shot</td>\n",
       "    </tr>\n",
       "    <tr>\n",
       "      <th>2</th>\n",
       "      <td>video6.webm</td>\n",
       "      <td>khr gangsters</td>\n",
       "    </tr>\n",
       "  </tbody>\n",
       "</table>\n",
       "</div>"
      ],
      "text/plain": [
       "         video                                            caption\n",
       "0  video3.webm                 blonde woman is massaged tilt down\n",
       "1  video4.webm  roulette table spinning with ball in closeup shot\n",
       "2  video6.webm                                      khr gangsters"
      ]
     },
     "execution_count": 7,
     "metadata": {
      "tags": []
     },
     "output_type": "execute_result"
    }
   ],
   "source": [
    "# replace punctuations with space\n",
    "# convert words to lower case\n",
    "\n",
    "for i, cap in enumerate(df_caption['caption']):\n",
    "    text = ''.join([c if c not in punctuation else ' ' for c in cap]).lower()\n",
    "    df_caption.loc[i,'caption'] = text\n",
    "\n",
    "df_caption.head(3)"
   ]
  },
  {
   "cell_type": "markdown",
   "metadata": {
    "colab_type": "text",
    "id": "r4MfDKHMw3pr"
   },
   "source": [
    "### 2.   Remove numbers in caption\n"
   ]
  },
  {
   "cell_type": "code",
   "execution_count": null,
   "metadata": {
    "colab": {
     "base_uri": "https://localhost:8080/",
     "height": 143
    },
    "colab_type": "code",
    "id": "OhxO1amfwIiT",
    "outputId": "876f217d-e68f-4aae-b868-6da47d2c1516"
   },
   "outputs": [
    {
     "data": {
      "text/html": [
       "<div>\n",
       "<style scoped>\n",
       "    .dataframe tbody tr th:only-of-type {\n",
       "        vertical-align: middle;\n",
       "    }\n",
       "\n",
       "    .dataframe tbody tr th {\n",
       "        vertical-align: top;\n",
       "    }\n",
       "\n",
       "    .dataframe thead th {\n",
       "        text-align: right;\n",
       "    }\n",
       "</style>\n",
       "<table border=\"1\" class=\"dataframe\">\n",
       "  <thead>\n",
       "    <tr style=\"text-align: right;\">\n",
       "      <th></th>\n",
       "      <th>video</th>\n",
       "      <th>caption</th>\n",
       "    </tr>\n",
       "  </thead>\n",
       "  <tbody>\n",
       "    <tr>\n",
       "      <th>0</th>\n",
       "      <td>video3.webm</td>\n",
       "      <td>blonde woman is massaged tilt down</td>\n",
       "    </tr>\n",
       "    <tr>\n",
       "      <th>1</th>\n",
       "      <td>video4.webm</td>\n",
       "      <td>roulette table spinning with ball in closeup shot</td>\n",
       "    </tr>\n",
       "    <tr>\n",
       "      <th>2</th>\n",
       "      <td>video6.webm</td>\n",
       "      <td>khr gangsters</td>\n",
       "    </tr>\n",
       "  </tbody>\n",
       "</table>\n",
       "</div>"
      ],
      "text/plain": [
       "         video                                            caption\n",
       "0  video3.webm                 blonde woman is massaged tilt down\n",
       "1  video4.webm  roulette table spinning with ball in closeup shot\n",
       "2  video6.webm                                      khr gangsters"
      ]
     },
     "execution_count": 8,
     "metadata": {
      "tags": []
     },
     "output_type": "execute_result"
    }
   ],
   "source": [
    "# remove numbers in captions\n",
    "\n",
    "df_caption.caption.replace({r\"[^a-z ]\" : ''}, inplace= True, regex = True)\n",
    "\n",
    "df_caption.head(3)"
   ]
  },
  {
   "cell_type": "markdown",
   "metadata": {
    "colab_type": "text",
    "id": "V8CuHPyDxAoh"
   },
   "source": [
    "### 3.   Remove stop words"
   ]
  },
  {
   "cell_type": "code",
   "execution_count": null,
   "metadata": {
    "colab": {
     "base_uri": "https://localhost:8080/",
     "height": 180
    },
    "colab_type": "code",
    "id": "lMr6reU6tfFN",
    "outputId": "22a512e7-c1a9-4d5b-9fb2-6a4fdea4f393"
   },
   "outputs": [
    {
     "name": "stdout",
     "output_type": "stream",
     "text": [
      "[nltk_data] Downloading package stopwords to /root/nltk_data...\n",
      "[nltk_data]   Package stopwords is already up-to-date!\n"
     ]
    },
    {
     "data": {
      "text/html": [
       "<div>\n",
       "<style scoped>\n",
       "    .dataframe tbody tr th:only-of-type {\n",
       "        vertical-align: middle;\n",
       "    }\n",
       "\n",
       "    .dataframe tbody tr th {\n",
       "        vertical-align: top;\n",
       "    }\n",
       "\n",
       "    .dataframe thead th {\n",
       "        text-align: right;\n",
       "    }\n",
       "</style>\n",
       "<table border=\"1\" class=\"dataframe\">\n",
       "  <thead>\n",
       "    <tr style=\"text-align: right;\">\n",
       "      <th></th>\n",
       "      <th>video</th>\n",
       "      <th>caption</th>\n",
       "    </tr>\n",
       "  </thead>\n",
       "  <tbody>\n",
       "    <tr>\n",
       "      <th>0</th>\n",
       "      <td>video3.webm</td>\n",
       "      <td>blonde woman massaged tilt</td>\n",
       "    </tr>\n",
       "    <tr>\n",
       "      <th>1</th>\n",
       "      <td>video4.webm</td>\n",
       "      <td>roulette table spinning ball closeup shot</td>\n",
       "    </tr>\n",
       "    <tr>\n",
       "      <th>2</th>\n",
       "      <td>video6.webm</td>\n",
       "      <td>khr gangsters</td>\n",
       "    </tr>\n",
       "  </tbody>\n",
       "</table>\n",
       "</div>"
      ],
      "text/plain": [
       "         video                                    caption\n",
       "0  video3.webm                 blonde woman massaged tilt\n",
       "1  video4.webm  roulette table spinning ball closeup shot\n",
       "2  video6.webm                              khr gangsters"
      ]
     },
     "execution_count": 9,
     "metadata": {
      "tags": []
     },
     "output_type": "execute_result"
    }
   ],
   "source": [
    "# setting stopwords\n",
    "\n",
    "nltk.download('stopwords')\n",
    "stopwords.words(\"english\") # get english stopwords\n",
    "stopwordsList = stopwords.words('english')\n",
    "\n",
    "# remove stopwords\n",
    "df_caption.caption = df_caption.caption.apply(lambda a_word: \" \".join(i for i in a_word.split() if i not in stopwordsList)) \n",
    "\n",
    "df_caption.head(3)"
   ]
  },
  {
   "cell_type": "markdown",
   "metadata": {
    "colab_type": "text",
    "id": "MKGIdaiWxC_A"
   },
   "source": [
    "### 4.   Lemmatization\n"
   ]
  },
  {
   "cell_type": "code",
   "execution_count": null,
   "metadata": {
    "colab": {
     "base_uri": "https://localhost:8080/",
     "height": 143
    },
    "colab_type": "code",
    "id": "lY11TfxIvPNu",
    "outputId": "52b873cf-3419-4129-cbde-46560b0d5699"
   },
   "outputs": [
    {
     "data": {
      "text/html": [
       "<div>\n",
       "<style scoped>\n",
       "    .dataframe tbody tr th:only-of-type {\n",
       "        vertical-align: middle;\n",
       "    }\n",
       "\n",
       "    .dataframe tbody tr th {\n",
       "        vertical-align: top;\n",
       "    }\n",
       "\n",
       "    .dataframe thead th {\n",
       "        text-align: right;\n",
       "    }\n",
       "</style>\n",
       "<table border=\"1\" class=\"dataframe\">\n",
       "  <thead>\n",
       "    <tr style=\"text-align: right;\">\n",
       "      <th></th>\n",
       "      <th>video</th>\n",
       "      <th>caption</th>\n",
       "    </tr>\n",
       "  </thead>\n",
       "  <tbody>\n",
       "    <tr>\n",
       "      <th>0</th>\n",
       "      <td>video3.webm</td>\n",
       "      <td>blonde woman massaged tilt</td>\n",
       "    </tr>\n",
       "    <tr>\n",
       "      <th>1</th>\n",
       "      <td>video4.webm</td>\n",
       "      <td>roulette table spinning ball closeup shot</td>\n",
       "    </tr>\n",
       "    <tr>\n",
       "      <th>2</th>\n",
       "      <td>video6.webm</td>\n",
       "      <td>khr gangster</td>\n",
       "    </tr>\n",
       "  </tbody>\n",
       "</table>\n",
       "</div>"
      ],
      "text/plain": [
       "         video                                    caption\n",
       "0  video3.webm                 blonde woman massaged tilt\n",
       "1  video4.webm  roulette table spinning ball closeup shot\n",
       "2  video6.webm                               khr gangster"
      ]
     },
     "execution_count": 10,
     "metadata": {
      "tags": []
     },
     "output_type": "execute_result"
    }
   ],
   "source": [
    "# Captions Lemmatization\n",
    "\n",
    "df_caption.caption = df_caption.caption.apply(lambda x: \" \".join([Word(i).lemmatize() for i in x.split()]))\n",
    "\n",
    "df_caption.head(3)"
   ]
  },
  {
   "cell_type": "markdown",
   "metadata": {
    "colab_type": "text",
    "id": "vN0o-huLxG08"
   },
   "source": [
    "### 5.   Join df_caption and df_label"
   ]
  },
  {
   "cell_type": "code",
   "execution_count": null,
   "metadata": {
    "colab": {
     "base_uri": "https://localhost:8080/",
     "height": 178
    },
    "colab_type": "code",
    "id": "j-1Q8pZzryM7",
    "outputId": "2fee227b-014f-4d07-c79b-e31f41b0f616"
   },
   "outputs": [
    {
     "data": {
      "text/html": [
       "<div>\n",
       "<style scoped>\n",
       "    .dataframe tbody tr th:only-of-type {\n",
       "        vertical-align: middle;\n",
       "    }\n",
       "\n",
       "    .dataframe tbody tr th {\n",
       "        vertical-align: top;\n",
       "    }\n",
       "\n",
       "    .dataframe thead th {\n",
       "        text-align: right;\n",
       "    }\n",
       "</style>\n",
       "<table border=\"1\" class=\"dataframe\">\n",
       "  <thead>\n",
       "    <tr style=\"text-align: right;\">\n",
       "      <th></th>\n",
       "      <th>video</th>\n",
       "      <th>caption</th>\n",
       "      <th>short-term_memorability</th>\n",
       "      <th>nb_short-term_annotations</th>\n",
       "      <th>long-term_memorability</th>\n",
       "      <th>nb_long-term_annotations</th>\n",
       "    </tr>\n",
       "  </thead>\n",
       "  <tbody>\n",
       "    <tr>\n",
       "      <th>0</th>\n",
       "      <td>video3.webm</td>\n",
       "      <td>blonde woman massaged tilt</td>\n",
       "      <td>0.924</td>\n",
       "      <td>34</td>\n",
       "      <td>0.846</td>\n",
       "      <td>13</td>\n",
       "    </tr>\n",
       "    <tr>\n",
       "      <th>1</th>\n",
       "      <td>video4.webm</td>\n",
       "      <td>roulette table spinning ball closeup shot</td>\n",
       "      <td>0.923</td>\n",
       "      <td>33</td>\n",
       "      <td>0.667</td>\n",
       "      <td>12</td>\n",
       "    </tr>\n",
       "    <tr>\n",
       "      <th>2</th>\n",
       "      <td>video6.webm</td>\n",
       "      <td>khr gangster</td>\n",
       "      <td>0.863</td>\n",
       "      <td>33</td>\n",
       "      <td>0.700</td>\n",
       "      <td>10</td>\n",
       "    </tr>\n",
       "  </tbody>\n",
       "</table>\n",
       "</div>"
      ],
      "text/plain": [
       "         video  ... nb_long-term_annotations\n",
       "0  video3.webm  ...                       13\n",
       "1  video4.webm  ...                       12\n",
       "2  video6.webm  ...                       10\n",
       "\n",
       "[3 rows x 6 columns]"
      ]
     },
     "execution_count": 11,
     "metadata": {
      "tags": []
     },
     "output_type": "execute_result"
    }
   ],
   "source": [
    "# Join datasets\n",
    "data = df_caption.merge(df_labels,on=[\"video\"],how=\"inner\")\n",
    "\n",
    "data.head(3)"
   ]
  },
  {
   "cell_type": "markdown",
   "metadata": {
    "colab_type": "text",
    "id": "ShgBGJKzxqN5"
   },
   "source": [
    "## V. Featurization"
   ]
  },
  {
   "cell_type": "markdown",
   "metadata": {
    "colab_type": "text",
    "id": "lYHCZANpgRYt"
   },
   "source": [
    "Upon building a data model, featurization of the data is an important step that are mostly forgotten as we use in most case TF-IDF with n-gram. But is it the best way to weight words"
   ]
  },
  {
   "cell_type": "code",
   "execution_count": null,
   "metadata": {
    "colab": {
     "base_uri": "https://localhost:8080/",
     "height": 162
    },
    "colab_type": "code",
    "id": "l-f2aG0kyWjl",
    "outputId": "ce9f4f69-f9ee-4837-d9e2-99ebaa28adc1"
   },
   "outputs": [
    {
     "name": "stdout",
     "output_type": "stream",
     "text": [
      "(6000, 4542)\n"
     ]
    },
    {
     "data": {
      "text/plain": [
       "array([[0, 0, 0, ..., 0, 0, 0],\n",
       "       [0, 0, 0, ..., 0, 0, 0],\n",
       "       [0, 0, 0, ..., 0, 0, 0],\n",
       "       ...,\n",
       "       [0, 0, 0, ..., 0, 0, 0],\n",
       "       [0, 0, 0, ..., 0, 0, 0],\n",
       "       [0, 0, 0, ..., 0, 0, 0]])"
      ]
     },
     "execution_count": 12,
     "metadata": {
      "tags": []
     },
     "output_type": "execute_result"
    }
   ],
   "source": [
    "# Bag of Words\n",
    "\n",
    "from sklearn.feature_extraction.text import CountVectorizer\n",
    "\n",
    "bagOfWords = CountVectorizer(min_df=1)\n",
    "X_bagOfWords = bagOfWords.fit_transform(data.caption)\n",
    "X_bagOfWords =X_bagOfWords.toarray()\n",
    "\n",
    "print(X_bagOfWords.shape)\n",
    "X_bagOfWords"
   ]
  },
  {
   "cell_type": "code",
   "execution_count": null,
   "metadata": {
    "colab": {
     "base_uri": "https://localhost:8080/",
     "height": 162
    },
    "colab_type": "code",
    "id": "Tv8N5Hn14Frq",
    "outputId": "c0a9a737-8221-4c53-aa75-d6f32efb2053"
   },
   "outputs": [
    {
     "name": "stdout",
     "output_type": "stream",
     "text": [
      "(6000, 4542)\n"
     ]
    },
    {
     "data": {
      "text/plain": [
       "array([[0., 0., 0., ..., 0., 0., 0.],\n",
       "       [0., 0., 0., ..., 0., 0., 0.],\n",
       "       [0., 0., 0., ..., 0., 0., 0.],\n",
       "       ...,\n",
       "       [0., 0., 0., ..., 0., 0., 0.],\n",
       "       [0., 0., 0., ..., 0., 0., 0.],\n",
       "       [0., 0., 0., ..., 0., 0., 0.]])"
      ]
     },
     "execution_count": 13,
     "metadata": {
      "tags": []
     },
     "output_type": "execute_result"
    }
   ],
   "source": [
    "# TF - IDF\n",
    "\n",
    "from sklearn.feature_extraction.text import TfidfVectorizer\n",
    "\n",
    "tf_Idf = TfidfVectorizer()\n",
    "X_tf_Idf = tf_Idf.fit_transform(data.caption)\n",
    "X_tf_Idf =X_tf_Idf.toarray()\n",
    "\n",
    "print(X_tf_Idf.shape)\n",
    "X_tf_Idf"
   ]
  },
  {
   "cell_type": "code",
   "execution_count": null,
   "metadata": {
    "colab": {
     "base_uri": "https://localhost:8080/",
     "height": 162
    },
    "colab_type": "code",
    "id": "Iszp_gEQ4-iN",
    "outputId": "77110549-07c3-4600-8f2b-f9e699a4d863"
   },
   "outputs": [
    {
     "name": "stdout",
     "output_type": "stream",
     "text": [
      "(6000, 58534)\n"
     ]
    },
    {
     "data": {
      "text/plain": [
       "array([[0., 0., 0., ..., 0., 0., 0.],\n",
       "       [0., 0., 0., ..., 0., 0., 0.],\n",
       "       [0., 0., 0., ..., 0., 0., 0.],\n",
       "       ...,\n",
       "       [0., 0., 0., ..., 0., 0., 0.],\n",
       "       [0., 0., 0., ..., 0., 0., 0.],\n",
       "       [0., 0., 0., ..., 0., 0., 0.]])"
      ]
     },
     "execution_count": 14,
     "metadata": {
      "tags": []
     },
     "output_type": "execute_result"
    }
   ],
   "source": [
    "# TF - IDF with n-gram\n",
    "\n",
    "from sklearn.feature_extraction.text import TfidfVectorizer\n",
    "\n",
    "ngram = TfidfVectorizer(ngram_range = (1,4))\n",
    "X_ngram = ngram.fit_transform(data.caption)\n",
    "X_ngram =X_ngram.toarray()\n",
    "\n",
    "print(X_ngram.shape)\n",
    "X_ngram"
   ]
  },
  {
   "cell_type": "markdown",
   "metadata": {
    "colab_type": "text",
    "id": "DNodAKlOA4w_"
   },
   "source": [
    "## VI. Building NN models"
   ]
  },
  {
   "cell_type": "markdown",
   "metadata": {
    "colab_type": "text",
    "id": "DBIvgAAsBTPI"
   },
   "source": [
    "Because we test multiple featurization, we create a function to split data according to the featurization used"
   ]
  },
  {
   "cell_type": "code",
   "execution_count": null,
   "metadata": {
    "colab": {},
    "colab_type": "code",
    "id": "Jna_gxu0A5D6"
   },
   "outputs": [],
   "source": [
    "def splitData(X_ttrain):\n",
    "  Y = data[['short-term_memorability','long-term_memorability']].values\n",
    "  X = X_ttrain\n",
    "  X_train, X_test, Y_train, Y_test = train_test_split(X,Y, test_size=0.2, random_state=88)\n",
    "\n",
    "  print(X_train.shape)\n",
    "  print(X_test.shape)\n",
    "  print(Y_train.shape)\n",
    "  print(Y_test.shape)\n",
    "  return;"
   ]
  },
  {
   "cell_type": "markdown",
   "metadata": {
    "colab_type": "text",
    "id": "ydHECDaCCgge"
   },
   "source": [
    "Because we test multiple featurization, we create a function that create the NN according to the featurization used"
   ]
  },
  {
   "cell_type": "code",
   "execution_count": null,
   "metadata": {
    "colab": {},
    "colab_type": "code",
    "id": "6DeYIqgTCfza"
   },
   "outputs": [],
   "source": [
    "def NN(X_ttrain):\n",
    "  from keras import layers\n",
    "  from keras.layers import Dropout # layer to avoid overfitting\n",
    "\n",
    "  model = Sequential()\n",
    "  model.add(layers.Dense(100,activation='relu',kernel_regularizer=regularizers.l2(0.0005),input_shape=(X_ttrain.shape[1],))) # layer 1\n",
    "  model.add(layers.Dropout(0.5)) # layer 2\n",
    "  model.add(layers.Dense(100,activation='relu',kernel_regularizer=regularizers.l2(0.0005))) # layer 3\n",
    "  model.add(layers.Dropout(0.5)) # layer 4\n",
    "  model.add(layers.Dense(2,activation='sigmoid')) # layer 5\n",
    "  \n",
    "  return model;"
   ]
  },
  {
   "cell_type": "markdown",
   "metadata": {
    "colab_type": "text",
    "id": "55lW2JB3E0s4"
   },
   "source": [
    "## VII. Train NN models"
   ]
  },
  {
   "cell_type": "markdown",
   "metadata": {
    "colab_type": "text",
    "id": "YJ_nlfMkGnKI"
   },
   "source": [
    "### Bag of Words"
   ]
  },
  {
   "cell_type": "code",
   "execution_count": null,
   "metadata": {
    "colab": {
     "base_uri": "https://localhost:8080/",
     "height": 1000
    },
    "colab_type": "code",
    "id": "zupzZhgUFMLk",
    "outputId": "0f33686e-3f34-4632-84bf-3fa76b980c7a"
   },
   "outputs": [
    {
     "name": "stdout",
     "output_type": "stream",
     "text": [
      "Train on 4800 samples, validate on 1200 samples\n",
      "Epoch 1/20\n",
      "4800/4800 [==============================] - 2s 499us/step - loss: 0.0514 - accuracy: 0.6942 - val_loss: 0.0192 - val_accuracy: 0.7083\n",
      "Epoch 2/20\n",
      "4800/4800 [==============================] - 1s 270us/step - loss: 0.0171 - accuracy: 0.7038 - val_loss: 0.0151 - val_accuracy: 0.7083\n",
      "Epoch 3/20\n",
      "4800/4800 [==============================] - 1s 255us/step - loss: 0.0151 - accuracy: 0.7040 - val_loss: 0.0143 - val_accuracy: 0.7083\n",
      "Epoch 4/20\n",
      "4800/4800 [==============================] - 1s 262us/step - loss: 0.0147 - accuracy: 0.7042 - val_loss: 0.0141 - val_accuracy: 0.7083\n",
      "Epoch 5/20\n",
      "4800/4800 [==============================] - 1s 258us/step - loss: 0.0144 - accuracy: 0.7040 - val_loss: 0.0140 - val_accuracy: 0.7083\n",
      "Epoch 6/20\n",
      "4800/4800 [==============================] - 1s 259us/step - loss: 0.0145 - accuracy: 0.7040 - val_loss: 0.0141 - val_accuracy: 0.7083\n",
      "Epoch 7/20\n",
      "4800/4800 [==============================] - 1s 263us/step - loss: 0.0144 - accuracy: 0.7040 - val_loss: 0.0141 - val_accuracy: 0.7083\n",
      "Epoch 8/20\n",
      "4800/4800 [==============================] - 1s 258us/step - loss: 0.0141 - accuracy: 0.7040 - val_loss: 0.0141 - val_accuracy: 0.7083\n",
      "Epoch 9/20\n",
      "4800/4800 [==============================] - 1s 256us/step - loss: 0.0141 - accuracy: 0.7040 - val_loss: 0.0140 - val_accuracy: 0.7083\n",
      "Epoch 10/20\n",
      "4800/4800 [==============================] - 1s 266us/step - loss: 0.0144 - accuracy: 0.7040 - val_loss: 0.0140 - val_accuracy: 0.7083\n",
      "Epoch 11/20\n",
      "4800/4800 [==============================] - 1s 264us/step - loss: 0.0141 - accuracy: 0.7040 - val_loss: 0.0144 - val_accuracy: 0.7083\n",
      "Epoch 12/20\n",
      "4800/4800 [==============================] - 1s 273us/step - loss: 0.0141 - accuracy: 0.7040 - val_loss: 0.0141 - val_accuracy: 0.7083\n",
      "Epoch 13/20\n",
      "4800/4800 [==============================] - 1s 275us/step - loss: 0.0141 - accuracy: 0.7040 - val_loss: 0.0140 - val_accuracy: 0.7083\n",
      "Epoch 14/20\n",
      "4800/4800 [==============================] - 1s 253us/step - loss: 0.0141 - accuracy: 0.7040 - val_loss: 0.0141 - val_accuracy: 0.7083\n",
      "Epoch 15/20\n",
      "4800/4800 [==============================] - 1s 253us/step - loss: 0.0141 - accuracy: 0.7040 - val_loss: 0.0140 - val_accuracy: 0.7083\n",
      "Epoch 16/20\n",
      "4800/4800 [==============================] - 1s 255us/step - loss: 0.0141 - accuracy: 0.7040 - val_loss: 0.0140 - val_accuracy: 0.7083\n",
      "Epoch 17/20\n",
      "4800/4800 [==============================] - 1s 254us/step - loss: 0.0140 - accuracy: 0.7040 - val_loss: 0.0140 - val_accuracy: 0.7083\n",
      "Epoch 18/20\n",
      "4800/4800 [==============================] - 1s 254us/step - loss: 0.0140 - accuracy: 0.7040 - val_loss: 0.0140 - val_accuracy: 0.7083\n",
      "Epoch 19/20\n",
      "4800/4800 [==============================] - 1s 256us/step - loss: 0.0139 - accuracy: 0.7040 - val_loss: 0.0139 - val_accuracy: 0.7083\n",
      "Epoch 20/20\n",
      "4800/4800 [==============================] - 1s 257us/step - loss: 0.0140 - accuracy: 0.7040 - val_loss: 0.0139 - val_accuracy: 0.7083\n"
     ]
    },
    {
     "data": {
      "image/png": "[encoded data removed]",
      "text/plain": [
       "<Figure size 432x288 with 1 Axes>"
      ]
     },
     "metadata": {
      "needs_background": "light",
      "tags": []
     },
     "output_type": "display_data"
    },
    {
     "data": {
      "image/png": "[encoded data removed]",
      "text/plain": [
       "<Figure size 432x288 with 1 Axes>"
      ]
     },
     "metadata": {
      "needs_background": "light",
      "tags": []
     },
     "output_type": "display_data"
    }
   ],
   "source": [
    "# For Bag of word\n",
    "\n",
    "Y = data[['short-term_memorability','long-term_memorability']].values\n",
    "X = X_bagOfWords\n",
    "X_train, X_test, Y_train, Y_test = train_test_split(X,Y, test_size=0.2, random_state=88)\n",
    "\n",
    "model1 = NN(X_bagOfWords)\n",
    "\n",
    "\n",
    "# training starts here\n",
    "\n",
    "model1.compile(optimizer='rmsprop',loss='mse',metrics=['accuracy'])\n",
    "model_fit = model1.fit(X_train,Y_train,epochs=20,validation_data=(X_test,Y_test))\n",
    "\n",
    "# visualizing the model\n",
    "loss = model_fit.history['loss']\n",
    "val_loss = model_fit.history['val_loss']\n",
    "\n",
    "epochs = range(1,len(loss)+1)\n",
    "\n",
    "plt.plot(epochs,loss,'bo',label='Training loss')\n",
    "plt.plot(epochs,val_loss,'b',label='Validation loss')\n",
    "plt.title('Training and validation loss')\n",
    "plt.xlabel('Epochs')\n",
    "plt.ylabel('Loss')\n",
    "plt.legend()\n",
    "plt.show()\n",
    "\n",
    "plt.figure()\n",
    "acc = model_fit.history['accuracy']\n",
    "val_acc = model_fit.history['val_accuracy']\n",
    "plt.plot(epochs, acc, 'bo', label='Training acc')\n",
    "plt.plot(epochs, val_acc, 'b', label='Validation acc')\n",
    "plt.title('Training and validation accuracy')\n",
    "plt.xlabel('Epochs')\n",
    "plt.ylabel('Acc')\n",
    "plt.legend()\n",
    "plt.show()"
   ]
  },
  {
   "cell_type": "markdown",
   "metadata": {
    "colab_type": "text",
    "id": "27LS3OocjlzT"
   },
   "source": [
    "We can see an overfitting from the first to the 8th epoch on training/validation loss graph. The issue is resolved as we go through the 8th epoch.\n",
    "\n",
    "On the validation/training accuracy graph, we can see training accuracy is always under validation accuracy and might be underfitting. Howerver the difference between these two parameters from epoch 10 is about 0.004. \n",
    "\n",
    "Validation accuracy is at about 0.708."
   ]
  },
  {
   "cell_type": "markdown",
   "metadata": {
    "colab_type": "text",
    "id": "lOv0TNReGt-Y"
   },
   "source": [
    "### TF-IDF"
   ]
  },
  {
   "cell_type": "code",
   "execution_count": null,
   "metadata": {
    "colab": {
     "base_uri": "https://localhost:8080/",
     "height": 1000
    },
    "colab_type": "code",
    "id": "YTPp2X29Gvhd",
    "outputId": "3099a5be-d580-4e39-ca9c-b63ee06f5c60"
   },
   "outputs": [
    {
     "name": "stdout",
     "output_type": "stream",
     "text": [
      "Train on 4800 samples, validate on 1200 samples\n",
      "Epoch 1/20\n",
      "4800/4800 [==============================] - 1s 297us/step - loss: 0.0520 - accuracy: 0.6540 - val_loss: 0.0185 - val_accuracy: 0.7083\n",
      "Epoch 2/20\n",
      "4800/4800 [==============================] - 1s 247us/step - loss: 0.0172 - accuracy: 0.7029 - val_loss: 0.0149 - val_accuracy: 0.7083\n",
      "Epoch 3/20\n",
      "4800/4800 [==============================] - 1s 250us/step - loss: 0.0152 - accuracy: 0.7040 - val_loss: 0.0145 - val_accuracy: 0.7083\n",
      "Epoch 4/20\n",
      "4800/4800 [==============================] - 1s 248us/step - loss: 0.0149 - accuracy: 0.7040 - val_loss: 0.0144 - val_accuracy: 0.7083\n",
      "Epoch 5/20\n",
      "4800/4800 [==============================] - 1s 242us/step - loss: 0.0147 - accuracy: 0.7040 - val_loss: 0.0143 - val_accuracy: 0.7083\n",
      "Epoch 6/20\n",
      "4800/4800 [==============================] - 1s 245us/step - loss: 0.0145 - accuracy: 0.7040 - val_loss: 0.0143 - val_accuracy: 0.7083\n",
      "Epoch 7/20\n",
      "4800/4800 [==============================] - 1s 248us/step - loss: 0.0145 - accuracy: 0.7040 - val_loss: 0.0143 - val_accuracy: 0.7083\n",
      "Epoch 8/20\n",
      "4800/4800 [==============================] - 1s 261us/step - loss: 0.0145 - accuracy: 0.7040 - val_loss: 0.0142 - val_accuracy: 0.7083\n",
      "Epoch 9/20\n",
      "4800/4800 [==============================] - 1s 254us/step - loss: 0.0143 - accuracy: 0.7040 - val_loss: 0.0142 - val_accuracy: 0.7083\n",
      "Epoch 10/20\n",
      "4800/4800 [==============================] - 1s 252us/step - loss: 0.0144 - accuracy: 0.7040 - val_loss: 0.0142 - val_accuracy: 0.7083\n",
      "Epoch 11/20\n",
      "4800/4800 [==============================] - 1s 247us/step - loss: 0.0143 - accuracy: 0.7040 - val_loss: 0.0142 - val_accuracy: 0.7083\n",
      "Epoch 12/20\n",
      "4800/4800 [==============================] - 1s 255us/step - loss: 0.0143 - accuracy: 0.7040 - val_loss: 0.0142 - val_accuracy: 0.7083\n",
      "Epoch 13/20\n",
      "4800/4800 [==============================] - 1s 260us/step - loss: 0.0142 - accuracy: 0.7040 - val_loss: 0.0142 - val_accuracy: 0.7083\n",
      "Epoch 14/20\n",
      "4800/4800 [==============================] - 1s 248us/step - loss: 0.0140 - accuracy: 0.7040 - val_loss: 0.0142 - val_accuracy: 0.7083\n",
      "Epoch 15/20\n",
      "4800/4800 [==============================] - 1s 251us/step - loss: 0.0142 - accuracy: 0.7040 - val_loss: 0.0142 - val_accuracy: 0.7083\n",
      "Epoch 16/20\n",
      "4800/4800 [==============================] - 1s 259us/step - loss: 0.0141 - accuracy: 0.7040 - val_loss: 0.0142 - val_accuracy: 0.7083\n",
      "Epoch 17/20\n",
      "4800/4800 [==============================] - 1s 256us/step - loss: 0.0141 - accuracy: 0.7040 - val_loss: 0.0142 - val_accuracy: 0.7083\n",
      "Epoch 18/20\n",
      "4800/4800 [==============================] - 1s 252us/step - loss: 0.0141 - accuracy: 0.7040 - val_loss: 0.0142 - val_accuracy: 0.7083\n",
      "Epoch 19/20\n",
      "4800/4800 [==============================] - 1s 252us/step - loss: 0.0141 - accuracy: 0.7040 - val_loss: 0.0142 - val_accuracy: 0.7083\n",
      "Epoch 20/20\n",
      "4800/4800 [==============================] - 1s 261us/step - loss: 0.0140 - accuracy: 0.7040 - val_loss: 0.0142 - val_accuracy: 0.7083\n"
     ]
    },
    {
     "data": {
      "image/png": "[encoded data removed]",
      "text/plain": [
       "<Figure size 432x288 with 1 Axes>"
      ]
     },
     "metadata": {
      "needs_background": "light",
      "tags": []
     },
     "output_type": "display_data"
    },
    {
     "data": {
      "image/png": "[encoded data removed]",
      "text/plain": [
       "<Figure size 432x288 with 1 Axes>"
      ]
     },
     "metadata": {
      "needs_background": "light",
      "tags": []
     },
     "output_type": "display_data"
    }
   ],
   "source": [
    "# For TF-IDF\n",
    "\n",
    "Y = data[['short-term_memorability','long-term_memorability']].values\n",
    "X = X_tf_Idf\n",
    "X_train, X_test, Y_train, Y_test = train_test_split(X,Y, test_size=0.2, random_state=88)\n",
    "\n",
    "model2 = NN(X_tf_Idf)\n",
    "\n",
    "# training starts here\n",
    "\n",
    "model2.compile(optimizer='rmsprop',loss='mse',metrics=['accuracy'])\n",
    "model_fit = model2.fit(X_train,Y_train,epochs=20,validation_data=(X_test,Y_test))\n",
    "\n",
    "# visualizing the model\n",
    "loss = model_fit.history['loss']\n",
    "val_loss = model_fit.history['val_loss']\n",
    "\n",
    "epochs = range(1,len(loss)+1)\n",
    "\n",
    "plt.plot(epochs,loss,'bo',label='Training loss')\n",
    "plt.plot(epochs,val_loss,'b',label='Validation loss')\n",
    "plt.title('Training and validation loss')\n",
    "plt.xlabel('Epochs')\n",
    "plt.ylabel('Loss')\n",
    "plt.legend()\n",
    "plt.show()\n",
    "\n",
    "plt.figure()\n",
    "acc = model_fit.history['accuracy']\n",
    "val_acc = model_fit.history['val_accuracy']\n",
    "plt.plot(epochs, acc, 'bo', label='Training acc')\n",
    "plt.plot(epochs, val_acc, 'b', label='Validation acc')\n",
    "plt.title('Training and validation accuracy')\n",
    "plt.xlabel('Epochs')\n",
    "plt.ylabel('Acc')\n",
    "plt.legend()\n",
    "plt.show()"
   ]
  },
  {
   "cell_type": "markdown",
   "metadata": {
    "colab_type": "text",
    "id": "riy2Ok4llWe7"
   },
   "source": [
    "We can see an overfitting from the first to the 8th epoch on training/validation loss graph. The issue is resolved as we go through the 8th epoch.\n",
    "\n",
    "On the validation/training accuracy graph, we can see training accuracy is always under validation accuracy and might be underfitting. The difference between these two parameters from epoch 10 is about 0.04. \n",
    "\n",
    "Validation accuracy is at about 0.708."
   ]
  },
  {
   "cell_type": "markdown",
   "metadata": {
    "colab_type": "text",
    "id": "TvnQCuE3HPJy"
   },
   "source": [
    "### TF-IDF + ngram"
   ]
  },
  {
   "cell_type": "code",
   "execution_count": null,
   "metadata": {
    "colab": {
     "base_uri": "https://localhost:8080/",
     "height": 1000
    },
    "colab_type": "code",
    "id": "TxH7bLcLHSXK",
    "outputId": "507ef5c2-7ff0-445b-9ef9-682e3c0f57f7"
   },
   "outputs": [
    {
     "name": "stdout",
     "output_type": "stream",
     "text": [
      "Train on 4800 samples, validate on 1200 samples\n",
      "Epoch 1/20\n",
      "4800/4800 [==============================] - 13s 3ms/step - loss: 0.0463 - accuracy: 0.6631 - val_loss: 0.0186 - val_accuracy: 0.7083\n",
      "Epoch 2/20\n",
      "4800/4800 [==============================] - 13s 3ms/step - loss: 0.0173 - accuracy: 0.7035 - val_loss: 0.0156 - val_accuracy: 0.7083\n",
      "Epoch 3/20\n",
      "4800/4800 [==============================] - 13s 3ms/step - loss: 0.0156 - accuracy: 0.7040 - val_loss: 0.0149 - val_accuracy: 0.7083\n",
      "Epoch 4/20\n",
      "4800/4800 [==============================] - 13s 3ms/step - loss: 0.0152 - accuracy: 0.7040 - val_loss: 0.0148 - val_accuracy: 0.7083\n",
      "Epoch 5/20\n",
      "4800/4800 [==============================] - 13s 3ms/step - loss: 0.0151 - accuracy: 0.7040 - val_loss: 0.0147 - val_accuracy: 0.7083\n",
      "Epoch 6/20\n",
      "4800/4800 [==============================] - 13s 3ms/step - loss: 0.0149 - accuracy: 0.7040 - val_loss: 0.0147 - val_accuracy: 0.7083\n",
      "Epoch 7/20\n",
      "4800/4800 [==============================] - 13s 3ms/step - loss: 0.0149 - accuracy: 0.7040 - val_loss: 0.0146 - val_accuracy: 0.7083\n",
      "Epoch 8/20\n",
      "4800/4800 [==============================] - 13s 3ms/step - loss: 0.0147 - accuracy: 0.7040 - val_loss: 0.0147 - val_accuracy: 0.7083\n",
      "Epoch 9/20\n",
      "4800/4800 [==============================] - 13s 3ms/step - loss: 0.0146 - accuracy: 0.7040 - val_loss: 0.0146 - val_accuracy: 0.7083\n",
      "Epoch 10/20\n",
      "4800/4800 [==============================] - 13s 3ms/step - loss: 0.0147 - accuracy: 0.7040 - val_loss: 0.0146 - val_accuracy: 0.7083\n",
      "Epoch 11/20\n",
      "4800/4800 [==============================] - 13s 3ms/step - loss: 0.0146 - accuracy: 0.7040 - val_loss: 0.0146 - val_accuracy: 0.7083\n",
      "Epoch 12/20\n",
      "4800/4800 [==============================] - 13s 3ms/step - loss: 0.0146 - accuracy: 0.7040 - val_loss: 0.0146 - val_accuracy: 0.7083\n",
      "Epoch 13/20\n",
      "4800/4800 [==============================] - 13s 3ms/step - loss: 0.0146 - accuracy: 0.7040 - val_loss: 0.0146 - val_accuracy: 0.7083\n",
      "Epoch 14/20\n",
      "4800/4800 [==============================] - 13s 3ms/step - loss: 0.0146 - accuracy: 0.7040 - val_loss: 0.0146 - val_accuracy: 0.7083\n",
      "Epoch 15/20\n",
      "4800/4800 [==============================] - 13s 3ms/step - loss: 0.0145 - accuracy: 0.7040 - val_loss: 0.0146 - val_accuracy: 0.7083\n",
      "Epoch 16/20\n",
      "4800/4800 [==============================] - 13s 3ms/step - loss: 0.0146 - accuracy: 0.7040 - val_loss: 0.0146 - val_accuracy: 0.7083\n",
      "Epoch 17/20\n",
      "4800/4800 [==============================] - 13s 3ms/step - loss: 0.0145 - accuracy: 0.7040 - val_loss: 0.0146 - val_accuracy: 0.7083\n",
      "Epoch 18/20\n",
      "4800/4800 [==============================] - 13s 3ms/step - loss: 0.0145 - accuracy: 0.7040 - val_loss: 0.0146 - val_accuracy: 0.7083\n",
      "Epoch 19/20\n",
      "4800/4800 [==============================] - 13s 3ms/step - loss: 0.0144 - accuracy: 0.7040 - val_loss: 0.0146 - val_accuracy: 0.7083\n",
      "Epoch 20/20\n",
      "4800/4800 [==============================] - 13s 3ms/step - loss: 0.0145 - accuracy: 0.7040 - val_loss: 0.0146 - val_accuracy: 0.7083\n"
     ]
    },
    {
     "data": {
      "image/png": "[encoded data removed]",
      "text/plain": [
       "<Figure size 432x288 with 1 Axes>"
      ]
     },
     "metadata": {
      "needs_background": "light",
      "tags": []
     },
     "output_type": "display_data"
    },
    {
     "data": {
      "image/png": "[encoded data removed]",
      "text/plain": [
       "<Figure size 432x288 with 1 Axes>"
      ]
     },
     "metadata": {
      "needs_background": "light",
      "tags": []
     },
     "output_type": "display_data"
    }
   ],
   "source": [
    "# For TF-IDF + ngram\n",
    "\n",
    "Y = data[['short-term_memorability','long-term_memorability']].values\n",
    "X = X_ngram\n",
    "X_train, X_test, Y_train, Y_test = train_test_split(X,Y, test_size=0.2, random_state=88)\n",
    "\n",
    "model3 = NN(X_ngram)\n",
    "\n",
    "\n",
    "# training starts here\n",
    "\n",
    "model3.compile(optimizer='rmsprop',loss='mse',metrics=['accuracy'])\n",
    "model_fit = model3.fit(X_train,Y_train,epochs=20,validation_data=(X_test,Y_test))\n",
    "\n",
    "# visualizing the model\n",
    "loss = model_fit.history['loss']\n",
    "val_loss = model_fit.history['val_loss']\n",
    "\n",
    "epochs = range(1,len(loss)+1)\n",
    "\n",
    "plt.plot(epochs,loss,'bo',label='Training loss')\n",
    "plt.plot(epochs,val_loss,'b',label='Validation loss')\n",
    "plt.title('Training and validation loss')\n",
    "plt.xlabel('Epochs')\n",
    "plt.ylabel('Loss')\n",
    "plt.legend()\n",
    "plt.show()\n",
    "\n",
    "plt.figure()\n",
    "acc = model_fit.history['accuracy']\n",
    "val_acc = model_fit.history['val_accuracy']\n",
    "plt.plot(epochs, acc, 'bo', label='Training acc')\n",
    "plt.plot(epochs, val_acc, 'b', label='Validation acc')\n",
    "plt.title('Training and validation accuracy')\n",
    "plt.xlabel('Epochs')\n",
    "plt.ylabel('Acc')\n",
    "plt.legend()\n",
    "plt.show()"
   ]
  },
  {
   "cell_type": "markdown",
   "metadata": {
    "colab_type": "text",
    "id": "Xjp8Hnw8lxHg"
   },
   "source": [
    "We can see an overfitting from the first to the 8th epoch on training/validation loss graph. The issue is resolved as we go through the 8th epoch.\n",
    "\n",
    "On the validation/training accuracy graph, we can see training accuracy is always under validation accuracy and might be underfitting. The difference between these two parameters from epoch 10 is about 0.04. \n",
    "\n",
    "Validation accuracy is at about 0.708."
   ]
  },
  {
   "cell_type": "markdown",
   "metadata": {
    "colab_type": "text",
    "id": "puq95KgNl4EU"
   },
   "source": [
    "In conclusion, it seems that while training the model on BoW, TF-IDF and TF-IDF 4-gram, they both have about the same curve on training/validation loss graph. However, it can be clearly seen that on training/validation accuracy graph, BoW while underfitting is clearly doing better as the difference after more than 10 epoch is of about 0.004 compared to 0.04 on TF-IDF and TF-IDF 4-gram.\n",
    "Moreover we can say that TF-IDF and n-gram are very similar."
   ]
  },
  {
   "cell_type": "markdown",
   "metadata": {
    "colab_type": "text",
    "id": "6leVlIXpHs3M"
   },
   "source": [
    "## VIII. NN Predictions"
   ]
  },
  {
   "cell_type": "markdown",
   "metadata": {
    "colab_type": "text",
    "id": "3kd2uLGSHwST"
   },
   "source": [
    "Bag of Words"
   ]
  },
  {
   "cell_type": "code",
   "execution_count": null,
   "metadata": {
    "colab": {
     "base_uri": "https://localhost:8080/",
     "height": 53
    },
    "colab_type": "code",
    "id": "WrOq6OHQIAxT",
    "outputId": "f963bd7a-8c76-4011-bf0f-42fc94f182a5"
   },
   "outputs": [
    {
     "name": "stdout",
     "output_type": "stream",
     "text": [
      "The Spearman's correlation coefficient is: 0.354\n",
      "The Spearman's correlation coefficient is: 0.170\n"
     ]
    }
   ],
   "source": [
    "# get the right weighting vector for the model\n",
    "X = X_bagOfWords\n",
    "X_train, X_test, Y_train, Y_test = train_test_split(X,Y, test_size=0.2, random_state=88)\n",
    "\n",
    "#predict and Pearson coeff\n",
    "predictions1 = model1.predict(X_test)\n",
    "Get_score(predictions1, Y_test)"
   ]
  },
  {
   "cell_type": "markdown",
   "metadata": {
    "colab_type": "text",
    "id": "qC_VPFrJHx61"
   },
   "source": [
    "TF-IDF"
   ]
  },
  {
   "cell_type": "code",
   "execution_count": null,
   "metadata": {
    "colab": {
     "base_uri": "https://localhost:8080/",
     "height": 53
    },
    "colab_type": "code",
    "id": "mnBK0ds1IENG",
    "outputId": "53d1d591-66ce-4838-d814-8444b1671ac0"
   },
   "outputs": [
    {
     "name": "stdout",
     "output_type": "stream",
     "text": [
      "The Spearman's correlation coefficient is: 0.304\n",
      "The Spearman's correlation coefficient is: 0.165\n"
     ]
    }
   ],
   "source": [
    "# get the right weighting vector for the model again\n",
    "X = X_tf_Idf\n",
    "X_train, X_test, Y_train, Y_test = train_test_split(X,Y, test_size=0.2, random_state=88)\n",
    "\n",
    "#predict and Pearson coeff\n",
    "predictions2 = model2.predict(X_test)\n",
    "Get_score(predictions2, Y_test)"
   ]
  },
  {
   "cell_type": "markdown",
   "metadata": {
    "colab_type": "text",
    "id": "T9qY4GQCHy6O"
   },
   "source": [
    "TF-IDF + ngram"
   ]
  },
  {
   "cell_type": "code",
   "execution_count": null,
   "metadata": {
    "colab": {
     "base_uri": "https://localhost:8080/",
     "height": 53
    },
    "colab_type": "code",
    "id": "8iNK3fvVIEvL",
    "outputId": "1668f944-a953-41a6-ab46-a4a37ab646ea"
   },
   "outputs": [
    {
     "name": "stdout",
     "output_type": "stream",
     "text": [
      "The Spearman's correlation coefficient is: 0.075\n",
      "The Spearman's correlation coefficient is: 0.061\n"
     ]
    }
   ],
   "source": [
    "# get the right weighting vector for the model again\n",
    "X = X_ngram\n",
    "X_train, X_test, Y_train, Y_test = train_test_split(X,Y, test_size=0.2, random_state=88)\n",
    "\n",
    "#predict and Pearson coeff\n",
    "predictions3 = model3.predict(X_test)\n",
    "Get_score(predictions3, Y_test)"
   ]
  },
  {
   "cell_type": "markdown",
   "metadata": {
    "colab_type": "text",
    "id": "p2Jhl8D8mwTb"
   },
   "source": [
    "It is with no surprise that Spearman's correlation coefficient is more efficient on BoW as we have previously seen that using BoW is clearly better than TF-IDF and TF-IDF n-gram do to a better management of underfitting the validation/training accuracy.\n",
    "In another hand, it is surprising to see thaTF-IDF + 4gram is behaving this bad as the we initially thought that it was quite similar to TF-IDF in term of loss and accuracy."
   ]
  },
  {
   "cell_type": "markdown",
   "metadata": {
    "colab_type": "text",
    "id": "RwmzyIlnIeTK"
   },
   "source": [
    "## IX. Save NN results"
   ]
  },
  {
   "cell_type": "code",
   "execution_count": null,
   "metadata": {
    "colab": {},
    "colab_type": "code",
    "id": "v2Smo6fNIg3K"
   },
   "outputs": [],
   "source": [
    "path = \"/content/drive/My Drive/Study/DCU Semester 2/Machine Learning/\"\n",
    "\n",
    "prediction1 = pd.DataFrame(predictions1, columns=['Short_term_score','Long_term_score']).to_csv(path+'/NN_model1_predictions.csv')\n",
    "prediction2 = pd.DataFrame(predictions2, columns=['Short_term_score','Long_term_score']).to_csv(path+'./NN_model2_predictions.csv')\n",
    "prediction3 = pd.DataFrame(predictions3, columns=['Short_term_score','Long_term_score']).to_csv(path+'./NN_model3_predictions.csv')\n",
    "\n",
    "model1.save(path+'NN_model1_on_caption.h5') # BoW\n",
    "model2.save(path+'NN_model2_on_caption.h5') # TF-IDF\n",
    "model3.save(path+'NN_model3_on_caption.h5') # TF-IDF + ngram"
   ]
  },
  {
   "cell_type": "markdown",
   "metadata": {
    "colab_type": "text",
    "id": "G_B3Gz8GRmiS"
   },
   "source": [
    "## X. Building SVR model"
   ]
  },
  {
   "cell_type": "markdown",
   "metadata": {
    "colab_type": "text",
    "id": "zzcxdtwjnVdh"
   },
   "source": [
    "SVR model is the SVM for continious variables and is a fit in our case."
   ]
  },
  {
   "cell_type": "code",
   "execution_count": null,
   "metadata": {
    "colab": {},
    "colab_type": "code",
    "id": "V4g8tPJTTuVw"
   },
   "outputs": [],
   "source": [
    "from sklearn.svm import SVR\n",
    "path = \"/content/drive/My Drive/Study/DCU Semester 2/Machine Learning/\""
   ]
  },
  {
   "cell_type": "markdown",
   "metadata": {
    "colab_type": "text",
    "id": "SyPfHgoYTEME"
   },
   "source": [
    "## XI. Linear kernel"
   ]
  },
  {
   "cell_type": "markdown",
   "metadata": {
    "colab_type": "text",
    "id": "q9gWAomxU0iD"
   },
   "source": [
    "### Bag of word"
   ]
  },
  {
   "cell_type": "code",
   "execution_count": null,
   "metadata": {
    "colab": {
     "base_uri": "https://localhost:8080/",
     "height": 92
    },
    "colab_type": "code",
    "id": "pYQa2iu0TcwW",
    "outputId": "fd26ebf4-5ff3-4086-ed31-401b4acae9ce"
   },
   "outputs": [
    {
     "name": "stderr",
     "output_type": "stream",
     "text": [
      "/usr/local/lib/python3.6/dist-packages/sklearn/utils/validation.py:760: DataConversionWarning: A column-vector y was passed when a 1d array was expected. Please change the shape of y to (n_samples, ), for example using ravel().\n",
      "  y = column_or_1d(y, warn=True)\n"
     ]
    },
    {
     "name": "stdout",
     "output_type": "stream",
     "text": [
      "The Spearman's correlation coefficient is: 0.238\n"
     ]
    }
   ],
   "source": [
    "# Get the ground truth and split the data into train and test set\n",
    "Y_short = df_labels[['short-term_memorability']].values # take short term memorability as label\n",
    "X = X_bagOfWords;\n",
    "X_train, X_test, Y_train_short, Y_test_short = train_test_split(X,Y_short, test_size=0.2, random_state=42)\n",
    "\n",
    "# fit the model\n",
    "modelSVR_short = SVR(C=100, kernel='linear').fit(X_train,Y_train_short)\n",
    "\n",
    "# prediction and getting Pearson coefficient\n",
    "predictionsSVR_short = modelSVR_short.predict(X_test)\n",
    "Get_score(predictionsSVR_short,Y_test_short)"
   ]
  },
  {
   "cell_type": "code",
   "execution_count": null,
   "metadata": {
    "colab": {
     "base_uri": "https://localhost:8080/",
     "height": 92
    },
    "colab_type": "code",
    "id": "OBkyxREeTl2G",
    "outputId": "11f5d3a4-c8cb-4794-cab7-607af47b00e3"
   },
   "outputs": [
    {
     "name": "stderr",
     "output_type": "stream",
     "text": [
      "/usr/local/lib/python3.6/dist-packages/sklearn/utils/validation.py:760: DataConversionWarning: A column-vector y was passed when a 1d array was expected. Please change the shape of y to (n_samples, ), for example using ravel().\n",
      "  y = column_or_1d(y, warn=True)\n"
     ]
    },
    {
     "name": "stdout",
     "output_type": "stream",
     "text": [
      "The Spearman's correlation coefficient is: 0.064\n"
     ]
    }
   ],
   "source": [
    "# Get the ground truth and split the data into train and test set\n",
    "Y_long = df_labels[['long-term_memorability']].values # take long term memorability as label\n",
    "X_train, X_test,Y_train_long, Y_test_long = train_test_split(X,Y_long, test_size=0.2, random_state=42)\n",
    "\n",
    "# fit the model\n",
    "modelSVR_long = SVR(C=100, kernel='linear').fit(X_train,Y_train_long)\n",
    "\n",
    "# prediction and getting Pearson coefficient\n",
    "predictionsSVR_long = modelSVR_long.predict(X_test)\n",
    "Get_score(predictionsSVR_long,Y_test_long)"
   ]
  },
  {
   "cell_type": "code",
   "execution_count": null,
   "metadata": {
    "colab": {},
    "colab_type": "code",
    "id": "zlN31elWWN5J"
   },
   "outputs": [],
   "source": [
    "# Save the results\n",
    "\n",
    "# merge the short term and long term score into a dataset\n",
    "data_frame = pd.DataFrame(predictionsSVR_short) \n",
    "data_frame['Long_term_score'] = pd.Series(predictionsSVR_long, index=data_frame.index) \n",
    "data_frame.columns = ['short_term_score', 'Long_term_score']\n",
    "\n",
    "# save the result in csv\n",
    "data_frame.to_csv(path+'/SVR_model1_linear_predictions.csv')\n",
    "\n",
    "# Save the model : short term\n",
    "with open(path+\"/SVR_model1_linear_modelShort.pkl\", 'wb') as file:\n",
    "    pickle.dump(predictionsSVR_short, file)\n",
    "\n",
    "# Save the model : long term\n",
    "with open(path+\"/SVR_model1_linear_modelLong.pkl\", 'wb') as file:\n",
    "    pickle.dump(predictionsSVR_long, file)"
   ]
  },
  {
   "cell_type": "markdown",
   "metadata": {
    "colab_type": "text",
    "id": "npNY08_7F2b0"
   },
   "source": [
    "Using SVR with linear kernel on BoW gives us pretty bad result on Spearman correlation on long term but the short term is behaving better"
   ]
  },
  {
   "cell_type": "markdown",
   "metadata": {
    "colab_type": "text",
    "id": "QQv70MxuU35h"
   },
   "source": [
    "### TF-IDF"
   ]
  },
  {
   "cell_type": "code",
   "execution_count": null,
   "metadata": {
    "colab": {
     "base_uri": "https://localhost:8080/",
     "height": 92
    },
    "colab_type": "code",
    "id": "zqjiDWRnVVtm",
    "outputId": "5afa0907-0dcc-4f4e-9a5a-c27aaa6b747b"
   },
   "outputs": [
    {
     "name": "stderr",
     "output_type": "stream",
     "text": [
      "/usr/local/lib/python3.6/dist-packages/sklearn/utils/validation.py:760: DataConversionWarning: A column-vector y was passed when a 1d array was expected. Please change the shape of y to (n_samples, ), for example using ravel().\n",
      "  y = column_or_1d(y, warn=True)\n"
     ]
    },
    {
     "name": "stdout",
     "output_type": "stream",
     "text": [
      "The Spearman's correlation coefficient is: 0.302\n"
     ]
    }
   ],
   "source": [
    "# Get the ground truth and split the data into train and test set\n",
    "Y_short = df_labels[['short-term_memorability']].values # take short term memorability as label\n",
    "X = X_tf_Idf;\n",
    "X_train, X_test, Y_train_short, Y_test_short = train_test_split(X,Y_short, test_size=0.2, random_state=42)\n",
    "\n",
    "# fit the model\n",
    "modelSVR_short = SVR(C=100, kernel='linear').fit(X_train,Y_train_short)\n",
    "\n",
    "# get prediciton of test and Pearson coefficient\n",
    "predictionsSVR_short = modelSVR_short.predict(X_test)\n",
    "Get_score(predictionsSVR_short,Y_test_short)"
   ]
  },
  {
   "cell_type": "code",
   "execution_count": null,
   "metadata": {
    "colab": {
     "base_uri": "https://localhost:8080/",
     "height": 92
    },
    "colab_type": "code",
    "id": "da8jWU25VVx7",
    "outputId": "bd89e8a7-3bac-40c1-d7fb-dbb81ef6afed"
   },
   "outputs": [
    {
     "name": "stderr",
     "output_type": "stream",
     "text": [
      "/usr/local/lib/python3.6/dist-packages/sklearn/utils/validation.py:760: DataConversionWarning: A column-vector y was passed when a 1d array was expected. Please change the shape of y to (n_samples, ), for example using ravel().\n",
      "  y = column_or_1d(y, warn=True)\n"
     ]
    },
    {
     "name": "stdout",
     "output_type": "stream",
     "text": [
      "The Spearman's correlation coefficient is: 0.087\n"
     ]
    }
   ],
   "source": [
    "# Get the ground truth and split the data into train and test set\n",
    "Y_long = df_labels[['long-term_memorability']].values # long short term memorability as label\n",
    "X_train, X_test,Y_train_long, Y_test_long = train_test_split(X,Y_long, test_size=0.2, random_state=42)\n",
    "\n",
    "#fit the model\n",
    "modelSVR_long = SVR(C=100, kernel='linear').fit(X_train,Y_train_long)\n",
    "\n",
    "# get prediciton of test and Pearson coefficient\n",
    "predictionsSVR_long = modelSVR_long.predict(X_test)\n",
    "Get_score(predictionsSVR_long,Y_test_long)"
   ]
  },
  {
   "cell_type": "code",
   "execution_count": null,
   "metadata": {
    "colab": {},
    "colab_type": "code",
    "id": "5GR6eiLKp4rC"
   },
   "outputs": [],
   "source": [
    "# Save the results\n",
    "data_frame = pd.DataFrame(predictionsSVR_short) \n",
    "data_frame['Long_term_score'] = pd.Series(predictionsSVR_long, index=data_frame.index)\n",
    "data_frame.columns = ['short_term_score', 'Long_term_score']\n",
    "data_frame.to_csv(path+'/SVR_model2_linear_predictions.csv')\n",
    "\n",
    "# Save the model : short term\n",
    "with open(path+\"/SVR_model2_linear_modelShort.pkl\", 'wb') as file:\n",
    "    pickle.dump(predictionsSVR_short, file)\n",
    "\n",
    "# Save the model : long term\n",
    "with open(path+\"/SVR_model2_linear_modelLong.pkl\", 'wb') as file:\n",
    "    pickle.dump(predictionsSVR_long, file)"
   ]
  },
  {
   "cell_type": "markdown",
   "metadata": {
    "colab_type": "text",
    "id": "VdhE0yaLGKT9"
   },
   "source": [
    "TF-IDF on linear kernel gives us nice result on short term but behave badly on long term.\n",
    "Overall it is better than using boW"
   ]
  },
  {
   "cell_type": "markdown",
   "metadata": {
    "colab_type": "text",
    "id": "SNLgi88YU489"
   },
   "source": [
    "### TF-IDF + ngram"
   ]
  },
  {
   "cell_type": "code",
   "execution_count": null,
   "metadata": {
    "colab": {
     "base_uri": "https://localhost:8080/",
     "height": 92
    },
    "colab_type": "code",
    "id": "H6P6qwcmVWU4",
    "outputId": "1549e61c-e92f-4d04-b9b2-81396685b303"
   },
   "outputs": [
    {
     "name": "stderr",
     "output_type": "stream",
     "text": [
      "/usr/local/lib/python3.6/dist-packages/sklearn/utils/validation.py:760: DataConversionWarning: A column-vector y was passed when a 1d array was expected. Please change the shape of y to (n_samples, ), for example using ravel().\n",
      "  y = column_or_1d(y, warn=True)\n"
     ]
    },
    {
     "name": "stdout",
     "output_type": "stream",
     "text": [
      "The Spearman's correlation coefficient is: 0.432\n"
     ]
    }
   ],
   "source": [
    "# Get the ground truth and split the data into train and test set\n",
    "Y_short = df_labels[['short-term_memorability']].values\n",
    "X = X_ngram;\n",
    "X_train, X_test, Y_train_short, Y_test_short = train_test_split(X,Y_short, test_size=0.2, random_state=42)\n",
    "modelSVR_short = SVR(C=100, kernel='linear').fit(X_train,Y_train_short)\n",
    "\n",
    "predictionsSVR_short = modelSVR_short.predict(X_test)\n",
    "Get_score(predictionsSVR_short,Y_test_short)"
   ]
  },
  {
   "cell_type": "code",
   "execution_count": null,
   "metadata": {
    "colab": {
     "base_uri": "https://localhost:8080/",
     "height": 92
    },
    "colab_type": "code",
    "id": "ZrAGR4taVWYI",
    "outputId": "d0a67b9d-0256-4552-d15d-8054a2c1eb81"
   },
   "outputs": [
    {
     "name": "stderr",
     "output_type": "stream",
     "text": [
      "/usr/local/lib/python3.6/dist-packages/sklearn/utils/validation.py:760: DataConversionWarning: A column-vector y was passed when a 1d array was expected. Please change the shape of y to (n_samples, ), for example using ravel().\n",
      "  y = column_or_1d(y, warn=True)\n"
     ]
    },
    {
     "name": "stdout",
     "output_type": "stream",
     "text": [
      "The Spearman's correlation coefficient is: 0.195\n"
     ]
    }
   ],
   "source": [
    "# Get the ground truth and split the data into train and test set\n",
    "Y_long = df_labels[['long-term_memorability']].values\n",
    "X_train, X_test,Y_train_long, Y_test_long = train_test_split(X,Y_long, test_size=0.2, random_state=42)\n",
    "modelSVR_long = SVR(C=100, kernel='linear').fit(X_train,Y_train_long)\n",
    "\n",
    "predictionsSVR_long = modelSVR_long.predict(X_test)\n",
    "Get_score(predictionsSVR_long,Y_test_long)"
   ]
  },
  {
   "cell_type": "code",
   "execution_count": null,
   "metadata": {
    "colab": {},
    "colab_type": "code",
    "id": "TvZ1F93IWPOn"
   },
   "outputs": [],
   "source": [
    "# Save the results\n",
    "data_frame = pd.DataFrame(predictionsSVR_short) \n",
    "data_frame['Long_term_score'] = pd.Series(predictionsSVR_long, index=data_frame.index)\n",
    "data_frame.columns = ['short_term_score', 'Long_term_score']\n",
    "data_frame.to_csv(path+'/SVR_model3_linear_predictions.csv')\n",
    "\n",
    "# Save the model : short term\n",
    "with open(path+\"/SVR_model3_linear_modelShort.pkl\", 'wb') as file:\n",
    "    pickle.dump(predictionsSVR_short, file)\n",
    "\n",
    "# Save the model : long term\n",
    "with open(path+\"/SVR_model3_linear_modelLong.pkl\", 'wb') as file:\n",
    "    pickle.dump(predictionsSVR_long, file)"
   ]
  },
  {
   "cell_type": "markdown",
   "metadata": {
    "colab_type": "text",
    "id": "igqaFNoAGbrQ"
   },
   "source": [
    "TF-IDF with ngram performs the best on SVR with a linear kernel either on long or short term prediction"
   ]
  },
  {
   "cell_type": "markdown",
   "metadata": {
    "colab_type": "text",
    "id": "xMonyvCJTGgf"
   },
   "source": [
    "## XII. Sigmoid kernel"
   ]
  },
  {
   "cell_type": "markdown",
   "metadata": {
    "colab_type": "text",
    "id": "3I8HNnpaU7Yg"
   },
   "source": [
    "### Bag of words"
   ]
  },
  {
   "cell_type": "code",
   "execution_count": null,
   "metadata": {
    "colab": {
     "base_uri": "https://localhost:8080/",
     "height": 92
    },
    "colab_type": "code",
    "id": "Spgrin4qT-ik",
    "outputId": "1ffbc280-74c2-42ee-d656-92e37bd5cfd9"
   },
   "outputs": [
    {
     "name": "stderr",
     "output_type": "stream",
     "text": [
      "/usr/local/lib/python3.6/dist-packages/sklearn/utils/validation.py:760: DataConversionWarning: A column-vector y was passed when a 1d array was expected. Please change the shape of y to (n_samples, ), for example using ravel().\n",
      "  y = column_or_1d(y, warn=True)\n"
     ]
    },
    {
     "name": "stdout",
     "output_type": "stream",
     "text": [
      "The Spearman's correlation coefficient is: 0.018\n"
     ]
    }
   ],
   "source": [
    "# Get the ground truth and split the data into train and test set\n",
    "Y_short = df_labels[['short-term_memorability']].values\n",
    "X = X_bagOfWords;\n",
    "X_train, X_test, Y_train_short, Y_test_short = train_test_split(X,Y_short, test_size=0.2, random_state=42)\n",
    "modelSVR_short = SVR(C=100, kernel='sigmoid').fit(X_train,Y_train_short)\n",
    "\n",
    "predictionsSVR_short = modelSVR_short.predict(X_test)\n",
    "Get_score(predictionsSVR_short,Y_test_short)"
   ]
  },
  {
   "cell_type": "code",
   "execution_count": null,
   "metadata": {
    "colab": {
     "base_uri": "https://localhost:8080/",
     "height": 92
    },
    "colab_type": "code",
    "id": "R_6x9xPtT-n9",
    "outputId": "fbb5d5eb-731a-4ed5-97e6-7f850094e5f1"
   },
   "outputs": [
    {
     "name": "stderr",
     "output_type": "stream",
     "text": [
      "/usr/local/lib/python3.6/dist-packages/sklearn/utils/validation.py:760: DataConversionWarning: A column-vector y was passed when a 1d array was expected. Please change the shape of y to (n_samples, ), for example using ravel().\n",
      "  y = column_or_1d(y, warn=True)\n"
     ]
    },
    {
     "name": "stdout",
     "output_type": "stream",
     "text": [
      "The Spearman's correlation coefficient is: -0.018\n"
     ]
    }
   ],
   "source": [
    "# Get the ground truth and split the data into train and test set\n",
    "Y_long = df_labels[['long-term_memorability']].values\n",
    "X_train, X_test,Y_train_long, Y_test_long = train_test_split(X,Y_long, test_size=0.2, random_state=42)\n",
    "modelSVR_long = SVR(C=100, kernel='sigmoid').fit(X_train,Y_train_long)\n",
    "\n",
    "predictionsSVR_long = modelSVR_long.predict(X_test)\n",
    "Get_score(predictionsSVR_long,Y_test_long)"
   ]
  },
  {
   "cell_type": "code",
   "execution_count": null,
   "metadata": {
    "colab": {},
    "colab_type": "code",
    "id": "RvTOmuJ-WP76"
   },
   "outputs": [],
   "source": [
    "# Save the results\n",
    "data_frame = pd.DataFrame(predictionsSVR_short) \n",
    "data_frame['Long_term_score'] = pd.Series(predictionsSVR_long, index=data_frame.index)\n",
    "data_frame.columns = ['short_term_score', 'Long_term_score']\n",
    "data_frame.to_csv(path+'/SVR_model1_sigmoid_predictions.csv')\n",
    "\n",
    "# Save the model : short term\n",
    "with open(path+\"/SVR_model1_sigmoid_modelShort.pkl\", 'wb') as file:\n",
    "    pickle.dump(predictionsSVR_short, file)\n",
    "\n",
    "# Save the model : long term\n",
    "with open(path+\"/SVR_model1_sigmoid_modelLong.pkl\", 'wb') as file:\n",
    "    pickle.dump(predictionsSVR_long, file)"
   ]
  },
  {
   "cell_type": "markdown",
   "metadata": {
    "colab_type": "text",
    "id": "4gMnWYfuGnu6"
   },
   "source": [
    "SVR with BoW on signoid kernel is very bad with long/short term giving coefficient near 0 but we can say it is the stablest as the values don't move from long to short  term score"
   ]
  },
  {
   "cell_type": "markdown",
   "metadata": {
    "colab_type": "text",
    "id": "wHzH6cdeU8_7"
   },
   "source": [
    "### TF-IDF"
   ]
  },
  {
   "cell_type": "code",
   "execution_count": null,
   "metadata": {
    "colab": {
     "base_uri": "https://localhost:8080/",
     "height": 92
    },
    "colab_type": "code",
    "id": "LbTMh1n2VHP6",
    "outputId": "c21eb5f5-c71e-4d2b-8216-1c997300b10c"
   },
   "outputs": [
    {
     "name": "stderr",
     "output_type": "stream",
     "text": [
      "/usr/local/lib/python3.6/dist-packages/sklearn/utils/validation.py:760: DataConversionWarning: A column-vector y was passed when a 1d array was expected. Please change the shape of y to (n_samples, ), for example using ravel().\n",
      "  y = column_or_1d(y, warn=True)\n"
     ]
    },
    {
     "name": "stdout",
     "output_type": "stream",
     "text": [
      "The Spearman's correlation coefficient is: 0.018\n"
     ]
    }
   ],
   "source": [
    "# Get the ground truth and split the data into train and test set\n",
    "Y_short = df_labels[['short-term_memorability']].values\n",
    "X = X_tf_Idf;\n",
    "X_train, X_test, Y_train_short, Y_test_short = train_test_split(X,Y_short, test_size=0.2, random_state=42)\n",
    "modelSVR_short = SVR(C=100, kernel='sigmoid').fit(X_train,Y_train_short)\n",
    "\n",
    "predictionsSVR_short = modelSVR_short.predict(X_test)\n",
    "Get_score(predictionsSVR_short,Y_test_short)"
   ]
  },
  {
   "cell_type": "code",
   "execution_count": null,
   "metadata": {
    "colab": {
     "base_uri": "https://localhost:8080/",
     "height": 92
    },
    "colab_type": "code",
    "id": "fr1AlXHPVHTh",
    "outputId": "03232fff-e6b0-4eaa-f711-232e8ef166a2"
   },
   "outputs": [
    {
     "name": "stderr",
     "output_type": "stream",
     "text": [
      "/usr/local/lib/python3.6/dist-packages/sklearn/utils/validation.py:760: DataConversionWarning: A column-vector y was passed when a 1d array was expected. Please change the shape of y to (n_samples, ), for example using ravel().\n",
      "  y = column_or_1d(y, warn=True)\n"
     ]
    },
    {
     "name": "stdout",
     "output_type": "stream",
     "text": [
      "The Spearman's correlation coefficient is: -0.036\n"
     ]
    }
   ],
   "source": [
    "# Get the ground truth and split the data into train and test set\n",
    "Y_long = df_labels[['long-term_memorability']].values\n",
    "X_train, X_test,Y_train_long, Y_test_long = train_test_split(X,Y_long, test_size=0.2, random_state=42)\n",
    "modelSVR_long = SVR(C=100, kernel='sigmoid').fit(X_train,Y_train_long)\n",
    "\n",
    "predictionsSVR_long = modelSVR_long.predict(X_test)\n",
    "Get_score(predictionsSVR_long,Y_test_long)"
   ]
  },
  {
   "cell_type": "code",
   "execution_count": null,
   "metadata": {
    "colab": {},
    "colab_type": "code",
    "id": "9elpp1Q-WQox"
   },
   "outputs": [],
   "source": [
    "# Save the results\n",
    "data_frame = pd.DataFrame(predictionsSVR_short) \n",
    "data_frame['Long_term_score'] = pd.Series(predictionsSVR_long, index=data_frame.index)\n",
    "data_frame.columns = ['short_term_score', 'Long_term_score']\n",
    "data_frame.to_csv(path+'/SVR_model2_sigmoid_predictions.csv')\n",
    "\n",
    "# Save the model : short term\n",
    "with open(path+\"/SVR_model2_sigmoid_modelShort.pkl\", 'wb') as file:\n",
    "    pickle.dump(predictionsSVR_short, file)\n",
    "\n",
    "# Save the model : long term\n",
    "with open(path+\"/SVR_model2_sigmoid_modelLong.pkl\", 'wb') as file:\n",
    "    pickle.dump(predictionsSVR_long, file)"
   ]
  },
  {
   "cell_type": "markdown",
   "metadata": {
    "colab_type": "text",
    "id": "4dopZkT0G-3m"
   },
   "source": [
    "Very bad coefficient as well for SVR on a sigmoid kernel. Still a bit better than Bow in long term score"
   ]
  },
  {
   "cell_type": "markdown",
   "metadata": {
    "colab_type": "text",
    "id": "gbpRni8WU90R"
   },
   "source": [
    "### TF-IDF + ngram"
   ]
  },
  {
   "cell_type": "code",
   "execution_count": null,
   "metadata": {
    "colab": {
     "base_uri": "https://localhost:8080/",
     "height": 92
    },
    "colab_type": "code",
    "id": "nFUsZmD3VH7y",
    "outputId": "00f6b92f-4c2f-4ee8-d9a2-55f65e7c4112"
   },
   "outputs": [
    {
     "name": "stderr",
     "output_type": "stream",
     "text": [
      "/usr/local/lib/python3.6/dist-packages/sklearn/utils/validation.py:760: DataConversionWarning: A column-vector y was passed when a 1d array was expected. Please change the shape of y to (n_samples, ), for example using ravel().\n",
      "  y = column_or_1d(y, warn=True)\n"
     ]
    },
    {
     "name": "stdout",
     "output_type": "stream",
     "text": [
      "The Spearman's correlation coefficient is: 0.422\n"
     ]
    }
   ],
   "source": [
    "# Get the ground truth and split the data into train and test set\n",
    "Y_short = df_labels[['short-term_memorability']].values\n",
    "X = X_ngram;\n",
    "X_train, X_test, Y_train_short, Y_test_short = train_test_split(X,Y_short, test_size=0.2, random_state=42)\n",
    "modelSVR_short = SVR(C=100, kernel='sigmoid').fit(X_train,Y_train_short)\n",
    "\n",
    "predictionsSVR_short = modelSVR_short.predict(X_test)\n",
    "Get_score(predictionsSVR_short,Y_test_short)"
   ]
  },
  {
   "cell_type": "code",
   "execution_count": null,
   "metadata": {
    "colab": {
     "base_uri": "https://localhost:8080/",
     "height": 92
    },
    "colab_type": "code",
    "id": "x8QBike9VH-k",
    "outputId": "4a7ad87e-eb37-44aa-8265-75b7430c12eb"
   },
   "outputs": [
    {
     "name": "stderr",
     "output_type": "stream",
     "text": [
      "/usr/local/lib/python3.6/dist-packages/sklearn/utils/validation.py:760: DataConversionWarning: A column-vector y was passed when a 1d array was expected. Please change the shape of y to (n_samples, ), for example using ravel().\n",
      "  y = column_or_1d(y, warn=True)\n"
     ]
    },
    {
     "name": "stdout",
     "output_type": "stream",
     "text": [
      "The Spearman's correlation coefficient is: 0.087\n"
     ]
    }
   ],
   "source": [
    "# Get the ground truth and split the data into train and test set\n",
    "Y_long = df_labels[['long-term_memorability']].values\n",
    "X_train, X_test,Y_train_long, Y_test_long = train_test_split(X,Y_long, test_size=0.2, random_state=42)\n",
    "modelSVR_long = SVR(C=100, kernel='sigmoid').fit(X_train,Y_train_long)\n",
    "\n",
    "predictionsSVR_long = modelSVR_long.predict(X_test)\n",
    "Get_score(predictionsSVR_long,Y_test_long)"
   ]
  },
  {
   "cell_type": "code",
   "execution_count": null,
   "metadata": {
    "colab": {},
    "colab_type": "code",
    "id": "E6fWpMOfWRHo"
   },
   "outputs": [],
   "source": [
    "# Save the results\n",
    "data_frame = pd.DataFrame(predictionsSVR_short) \n",
    "data_frame['Long_term_score'] = pd.Series(predictionsSVR_long, index=data_frame.index)\n",
    "data_frame.columns = ['short_term_score', 'Long_term_score']\n",
    "data_frame.to_csv(path+'/SVR_model3_sigmoid_predictions.csv')\n",
    "\n",
    "# Save the model : short term\n",
    "with open(path+\"/SVR_model3_sigmoid_modelShort.pkl\", 'wb') as file:\n",
    "    pickle.dump(predictionsSVR_short, file)\n",
    "\n",
    "# Save the model : long term\n",
    "with open(path+\"/SVR_model3_sigmoid_modelLong.pkl\", 'wb') as file:\n",
    "    pickle.dump(predictionsSVR_long, file)"
   ]
  },
  {
   "cell_type": "markdown",
   "metadata": {
    "colab_type": "text",
    "id": "f8DmAP59HL7F"
   },
   "source": [
    "SVR with TF-IDF -ngram on sigmoid performs well on short term but not well on long term. Still better than the last two model."
   ]
  },
  {
   "cell_type": "markdown",
   "metadata": {
    "colab_type": "text",
    "id": "gHLy-SlHTUpp"
   },
   "source": [
    "## XIII. Polynomial kernel"
   ]
  },
  {
   "cell_type": "markdown",
   "metadata": {
    "colab_type": "text",
    "id": "gpmCyZKoU_qS"
   },
   "source": [
    "### Bag of words"
   ]
  },
  {
   "cell_type": "code",
   "execution_count": null,
   "metadata": {
    "colab": {
     "base_uri": "https://localhost:8080/",
     "height": 92
    },
    "colab_type": "code",
    "id": "43dzSVALUAnK",
    "outputId": "31ec3ed1-e0d9-440a-eb6e-216fe83ba7bc"
   },
   "outputs": [
    {
     "name": "stderr",
     "output_type": "stream",
     "text": [
      "/usr/local/lib/python3.6/dist-packages/sklearn/utils/validation.py:760: DataConversionWarning: A column-vector y was passed when a 1d array was expected. Please change the shape of y to (n_samples, ), for example using ravel().\n",
      "  y = column_or_1d(y, warn=True)\n"
     ]
    },
    {
     "name": "stdout",
     "output_type": "stream",
     "text": [
      "The Spearman's correlation coefficient is: 0.376\n"
     ]
    }
   ],
   "source": [
    "# Get the ground truth and split the data into train and test set\n",
    "Y_short = df_labels[['short-term_memorability']].values\n",
    "X = X_bagOfWords;\n",
    "X_train, X_test, Y_train_short, Y_test_short = train_test_split(X,Y_short, test_size=0.2, random_state=42)\n",
    "modelSVR_short = SVR(C=100, kernel='poly').fit(X_train,Y_train_short)\n",
    "\n",
    "predictionsSVR_short = modelSVR_short.predict(X_test)\n",
    "Get_score(predictionsSVR_short,Y_test_short)"
   ]
  },
  {
   "cell_type": "code",
   "execution_count": null,
   "metadata": {
    "colab": {
     "base_uri": "https://localhost:8080/",
     "height": 92
    },
    "colab_type": "code",
    "id": "KYQ4XtbZUAp5",
    "outputId": "f5650204-3c3e-42db-a765-82daf1c67cf4"
   },
   "outputs": [
    {
     "name": "stderr",
     "output_type": "stream",
     "text": [
      "/usr/local/lib/python3.6/dist-packages/sklearn/utils/validation.py:760: DataConversionWarning: A column-vector y was passed when a 1d array was expected. Please change the shape of y to (n_samples, ), for example using ravel().\n",
      "  y = column_or_1d(y, warn=True)\n"
     ]
    },
    {
     "name": "stdout",
     "output_type": "stream",
     "text": [
      "The Spearman's correlation coefficient is: 0.180\n"
     ]
    }
   ],
   "source": [
    "# Get the ground truth and split the data into train and test set\n",
    "Y_long = df_labels[['long-term_memorability']].values\n",
    "X_train, X_test,Y_train_long, Y_test_long = train_test_split(X,Y_long, test_size=0.2, random_state=42)\n",
    "modelSVR_long = SVR(C=100, kernel='poly').fit(X_train,Y_train_long)\n",
    "\n",
    "predictionsSVR_long = modelSVR_long.predict(X_test)\n",
    "Get_score(predictionsSVR_long,Y_test_long)"
   ]
  },
  {
   "cell_type": "code",
   "execution_count": null,
   "metadata": {
    "colab": {},
    "colab_type": "code",
    "id": "dwySjLcJWRpT"
   },
   "outputs": [],
   "source": [
    "# Save the results\n",
    "data_frame = pd.DataFrame(predictionsSVR_short) \n",
    "data_frame['Long_term_score'] = pd.Series(predictionsSVR_long, index=data_frame.index)\n",
    "data_frame.columns = ['short_term_score', 'Long_term_score']\n",
    "data_frame.to_csv(path+'/SVR_model1_poly_predictions.csv')\n",
    "\n",
    "# Save the model : short term\n",
    "with open(path+\"/SVR_model1_poly_modelShort.pkl\", 'wb') as file:\n",
    "    pickle.dump(predictionsSVR_short, file)\n",
    "\n",
    "# Save the model : long term\n",
    "with open(path+\"/SVR_model1_poly_modelLong.pkl\", 'wb') as file:\n",
    "    pickle.dump(predictionsSVR_long, file)"
   ]
  },
  {
   "cell_type": "markdown",
   "metadata": {
    "colab_type": "text",
    "id": "Rftd7VWoHff2"
   },
   "source": [
    "SVR with polynomial performs well on BoW with short term but not so much on SVR polynomial long term."
   ]
  },
  {
   "cell_type": "markdown",
   "metadata": {
    "colab_type": "text",
    "id": "9fW1ybY-VC5E"
   },
   "source": [
    "### TF-IDF"
   ]
  },
  {
   "cell_type": "code",
   "execution_count": null,
   "metadata": {
    "colab": {
     "base_uri": "https://localhost:8080/",
     "height": 92
    },
    "colab_type": "code",
    "id": "F1j8rP8hVIw4",
    "outputId": "b16b7fe6-c33b-4cfe-dfc1-0c78c4b704fd"
   },
   "outputs": [
    {
     "name": "stderr",
     "output_type": "stream",
     "text": [
      "/usr/local/lib/python3.6/dist-packages/sklearn/utils/validation.py:760: DataConversionWarning: A column-vector y was passed when a 1d array was expected. Please change the shape of y to (n_samples, ), for example using ravel().\n",
      "  y = column_or_1d(y, warn=True)\n"
     ]
    },
    {
     "name": "stdout",
     "output_type": "stream",
     "text": [
      "The Spearman's correlation coefficient is: 0.435\n"
     ]
    }
   ],
   "source": [
    "# Get the ground truth and split the data into train and test set\n",
    "Y_short = df_labels[['short-term_memorability']].values\n",
    "X = X_tf_Idf;\n",
    "X_train, X_test, Y_train_short, Y_test_short = train_test_split(X,Y_short, test_size=0.2, random_state=42)\n",
    "modelSVR_short = SVR(C=100, kernel='poly').fit(X_train,Y_train_short)\n",
    "\n",
    "predictionsSVR_short = modelSVR_short.predict(X_test)\n",
    "Get_score(predictionsSVR_short,Y_test_short)"
   ]
  },
  {
   "cell_type": "code",
   "execution_count": null,
   "metadata": {
    "colab": {
     "base_uri": "https://localhost:8080/",
     "height": 92
    },
    "colab_type": "code",
    "id": "HKS7ycr9VIzp",
    "outputId": "37aa6d3b-9435-482e-b834-f6a0bc4fb11e"
   },
   "outputs": [
    {
     "name": "stderr",
     "output_type": "stream",
     "text": [
      "/usr/local/lib/python3.6/dist-packages/sklearn/utils/validation.py:760: DataConversionWarning: A column-vector y was passed when a 1d array was expected. Please change the shape of y to (n_samples, ), for example using ravel().\n",
      "  y = column_or_1d(y, warn=True)\n"
     ]
    },
    {
     "name": "stdout",
     "output_type": "stream",
     "text": [
      "The Spearman's correlation coefficient is: 0.186\n"
     ]
    }
   ],
   "source": [
    "# Get the ground truth and split the data into train and test set\n",
    "Y_long = df_labels[['long-term_memorability']].values\n",
    "X_train, X_test,Y_train_long, Y_test_long = train_test_split(X,Y_long, test_size=0.2, random_state=42)\n",
    "modelSVR_long = SVR(C=100, kernel='poly').fit(X_train,Y_train_long)\n",
    "\n",
    "predictionsSVR_long = modelSVR_long.predict(X_test)\n",
    "Get_score(predictionsSVR_long,Y_test_long)"
   ]
  },
  {
   "cell_type": "code",
   "execution_count": null,
   "metadata": {
    "colab": {},
    "colab_type": "code",
    "id": "g9lnAiwGWSRz"
   },
   "outputs": [],
   "source": [
    "# Save the results\n",
    "data_frame = pd.DataFrame(predictionsSVR_short) \n",
    "data_frame['Long_term_score'] = pd.Series(predictionsSVR_long, index=data_frame.index)\n",
    "data_frame.columns = ['short_term_score', 'Long_term_score']\n",
    "data_frame.to_csv(path+'/SVR_model2_poly_predictions.csv')\n",
    "\n",
    "# Save the model : short term\n",
    "with open(path+\"/SVR_model2_poly_modelShort.pkl\", 'wb') as file:\n",
    "    pickle.dump(predictionsSVR_short, file)\n",
    "\n",
    "# Save the model : long term\n",
    "with open(path+\"/SVR_model2_poly_modelLong.pkl\", 'wb') as file:\n",
    "    pickle.dump(predictionsSVR_long, file)"
   ]
  },
  {
   "cell_type": "markdown",
   "metadata": {
    "colab_type": "text",
    "id": "RXQcuL7sHzwS"
   },
   "source": [
    "This SVR polynomial with TF-IDF works well on short term but is as well lacking on long term. However it is better than BoW on a polynomial kernel"
   ]
  },
  {
   "cell_type": "markdown",
   "metadata": {
    "colab_type": "text",
    "id": "wvy1dHEDVDyb"
   },
   "source": [
    "### TF-IDF + ngram"
   ]
  },
  {
   "cell_type": "code",
   "execution_count": null,
   "metadata": {
    "colab": {
     "base_uri": "https://localhost:8080/",
     "height": 92
    },
    "colab_type": "code",
    "id": "TIl_z0s6VJQg",
    "outputId": "0263a8ae-c2eb-46a1-8d1f-d53847c3186d"
   },
   "outputs": [
    {
     "name": "stderr",
     "output_type": "stream",
     "text": [
      "/usr/local/lib/python3.6/dist-packages/sklearn/utils/validation.py:760: DataConversionWarning: A column-vector y was passed when a 1d array was expected. Please change the shape of y to (n_samples, ), for example using ravel().\n",
      "  y = column_or_1d(y, warn=True)\n"
     ]
    },
    {
     "name": "stdout",
     "output_type": "stream",
     "text": [
      "The Spearman's correlation coefficient is: 0.388\n"
     ]
    }
   ],
   "source": [
    "# Get the ground truth and split the data into train and test set\n",
    "Y_short = df_labels[['short-term_memorability']].values\n",
    "X = X_ngram;\n",
    "X_train, X_test, Y_train_short, Y_test_short = train_test_split(X,Y_short, test_size=0.2, random_state=42)\n",
    "modelSVR_short = SVR(C=100, kernel='poly').fit(X_train,Y_train_short)\n",
    "\n",
    "predictionsSVR_short = modelSVR_short.predict(X_test)\n",
    "Get_score(predictionsSVR_short,Y_test_short)"
   ]
  },
  {
   "cell_type": "code",
   "execution_count": null,
   "metadata": {
    "colab": {
     "base_uri": "https://localhost:8080/",
     "height": 92
    },
    "colab_type": "code",
    "id": "37zpqDUeVJUG",
    "outputId": "1f8c892b-711f-408a-cc39-b568ee5a90a1"
   },
   "outputs": [
    {
     "name": "stderr",
     "output_type": "stream",
     "text": [
      "/usr/local/lib/python3.6/dist-packages/sklearn/utils/validation.py:760: DataConversionWarning: A column-vector y was passed when a 1d array was expected. Please change the shape of y to (n_samples, ), for example using ravel().\n",
      "  y = column_or_1d(y, warn=True)\n"
     ]
    },
    {
     "name": "stdout",
     "output_type": "stream",
     "text": [
      "The Spearman's correlation coefficient is: 0.172\n"
     ]
    }
   ],
   "source": [
    "# Get the ground truth and split the data into train and test set\n",
    "Y_long = df_labels[['long-term_memorability']].values\n",
    "X_train, X_test,Y_train_long, Y_test_long = train_test_split(X,Y_long, test_size=0.2, random_state=42)\n",
    "modelSVR_long = SVR(C=100, kernel='poly').fit(X_train,Y_train_long)\n",
    "\n",
    "predictionsSVR_long = modelSVR_long.predict(X_test)\n",
    "Get_score(predictionsSVR_long,Y_test_long)"
   ]
  },
  {
   "cell_type": "code",
   "execution_count": null,
   "metadata": {
    "colab": {},
    "colab_type": "code",
    "id": "fDnLM_D2WSux"
   },
   "outputs": [],
   "source": [
    "# Save the results\n",
    "data_frame = pd.DataFrame(predictionsSVR_short) \n",
    "data_frame['Long_term_score'] = pd.Series(predictionsSVR_long, index=data_frame.index)\n",
    "data_frame.columns = ['short_term_score', 'Long_term_score']\n",
    "data_frame.to_csv(path+'/SVR_model3_poly_predictions.csv')\n",
    "\n",
    "# Save the model : short term\n",
    "with open(path+\"/SVR_model3_poly_modelShort.pkl\", 'wb') as file:\n",
    "    pickle.dump(predictionsSVR_short, file)\n",
    "\n",
    "# Save the model : long term\n",
    "with open(path+\"/SVR_model3_poly_modelLong.pkl\", 'wb') as file:\n",
    "    pickle.dump(predictionsSVR_long, file)"
   ]
  },
  {
   "cell_type": "markdown",
   "metadata": {
    "colab_type": "text",
    "id": "3BvjPttzIE2A"
   },
   "source": [
    "SVR with TF-IDF ngram score is a balance between BoW and TF-IDF"
   ]
  },
  {
   "cell_type": "markdown",
   "metadata": {
    "colab_type": "text",
    "id": "jPuHKWHUKXGp"
   },
   "source": [
    "## XIV. Using test-set on the optimal result found"
   ]
  },
  {
   "cell_type": "markdown",
   "metadata": {
    "colab_type": "text",
    "id": "m6elLgYyLRa5"
   },
   "source": [
    "From our Pearson's coefficient results it seems that overall the best model we trained was the SVR with a polynomial kernel and TF-IDF vector applied on it. We use this model to generate our prediction on the test-set."
   ]
  },
  {
   "cell_type": "markdown",
   "metadata": {
    "colab_type": "text",
    "id": "2-PyporBNXaY"
   },
   "source": [
    "### Loading the test data"
   ]
  },
  {
   "cell_type": "code",
   "execution_count": null,
   "metadata": {
    "colab": {},
    "colab_type": "code",
    "id": "061eSzVbKe2Y"
   },
   "outputs": [],
   "source": [
    "# load labels and captions\n",
    "def read_caps_test_set(filename):\n",
    "    \"\"\"Load the captions into a dataframe\"\"\"\n",
    "    thevideos = []\n",
    "    thecaptions = []\n",
    "    temp_df = pd.DataFrame();\n",
    "    with open(filename) as f:\n",
    "        for line in f:\n",
    "            pairs = line.split()\n",
    "            thevideos.append(pairs[0])\n",
    "            thecaptions.append(pairs[1])\n",
    "        temp_df['video']=thevideos\n",
    "        temp_df['caption']=thecaptions\n",
    "    return temp_df\n",
    "\n",
    "\n",
    "# load the captions\n",
    "dev_path = './Test-set/Captions_test/test-set-1_video-captions.txt'\n",
    "df_test_caption = read_caps_test_set(dev_path)\n",
    "\n",
    "# load the ground truth values\n",
    "test_label_path = './Test-set/Ground-truth_test/'\n",
    "df_test_labels = pd.read_csv(test_label_path+'ground_truth_template.csv')"
   ]
  },
  {
   "cell_type": "code",
   "execution_count": null,
   "metadata": {
    "colab": {
     "base_uri": "https://localhost:8080/",
     "height": 35
    },
    "colab_type": "code",
    "id": "iN2T68Cjufct",
    "outputId": "10448b28-5d9a-45a5-ac02-f7bdb00b998a"
   },
   "outputs": [
    {
     "data": {
      "text/plain": [
       "(2000, 2)"
      ]
     },
     "execution_count": 6,
     "metadata": {
      "tags": []
     },
     "output_type": "execute_result"
    }
   ],
   "source": [
    "df_test_caption.shape"
   ]
  },
  {
   "cell_type": "markdown",
   "metadata": {
    "colab_type": "text",
    "id": "t3yf80WiNgGK"
   },
   "source": [
    "### Preprocessing the test captions"
   ]
  },
  {
   "cell_type": "markdown",
   "metadata": {
    "colab_type": "text",
    "id": "TwDFo74CN1Wn"
   },
   "source": [
    "Same preprocessing techniques used in the dev set is used here."
   ]
  },
  {
   "cell_type": "code",
   "execution_count": null,
   "metadata": {
    "colab": {
     "base_uri": "https://localhost:8080/",
     "height": 143
    },
    "colab_type": "code",
    "id": "qexx9kmkNcW5",
    "outputId": "ad9be3ee-673f-4f07-99d6-5473f50e4bbc"
   },
   "outputs": [
    {
     "data": {
      "text/html": [
       "<div>\n",
       "<style scoped>\n",
       "    .dataframe tbody tr th:only-of-type {\n",
       "        vertical-align: middle;\n",
       "    }\n",
       "\n",
       "    .dataframe tbody tr th {\n",
       "        vertical-align: top;\n",
       "    }\n",
       "\n",
       "    .dataframe thead th {\n",
       "        text-align: right;\n",
       "    }\n",
       "</style>\n",
       "<table border=\"1\" class=\"dataframe\">\n",
       "  <thead>\n",
       "    <tr style=\"text-align: right;\">\n",
       "      <th></th>\n",
       "      <th>video</th>\n",
       "      <th>caption</th>\n",
       "    </tr>\n",
       "  </thead>\n",
       "  <tbody>\n",
       "    <tr>\n",
       "      <th>0</th>\n",
       "      <td>video7494.webm</td>\n",
       "      <td>green jeep struggling to drive over huge rocks</td>\n",
       "    </tr>\n",
       "    <tr>\n",
       "      <th>1</th>\n",
       "      <td>video7495.webm</td>\n",
       "      <td>hiking woman tourist is walking forward in mou...</td>\n",
       "    </tr>\n",
       "    <tr>\n",
       "      <th>2</th>\n",
       "      <td>video7496.webm</td>\n",
       "      <td>close up of african american doctors hands usi...</td>\n",
       "    </tr>\n",
       "  </tbody>\n",
       "</table>\n",
       "</div>"
      ],
      "text/plain": [
       "            video                                            caption\n",
       "0  video7494.webm     green jeep struggling to drive over huge rocks\n",
       "1  video7495.webm  hiking woman tourist is walking forward in mou...\n",
       "2  video7496.webm  close up of african american doctors hands usi..."
      ]
     },
     "execution_count": 9,
     "metadata": {
      "tags": []
     },
     "output_type": "execute_result"
    }
   ],
   "source": [
    "# replace punctuations with space\n",
    "# convert words to lower case\n",
    "\n",
    "for i, cap in enumerate(df_test_caption['caption']):\n",
    "    text = ''.join([c if c not in punctuation else ' ' for c in cap]).lower()\n",
    "    df_test_caption.loc[i,'caption'] = text\n",
    "\n",
    "df_test_caption.head(3)"
   ]
  },
  {
   "cell_type": "code",
   "execution_count": null,
   "metadata": {
    "colab": {
     "base_uri": "https://localhost:8080/",
     "height": 143
    },
    "colab_type": "code",
    "id": "0Mr6KlimNrlI",
    "outputId": "5368bcb9-13a0-47b1-9f66-9c1c28edbf98"
   },
   "outputs": [
    {
     "data": {
      "text/html": [
       "<div>\n",
       "<style scoped>\n",
       "    .dataframe tbody tr th:only-of-type {\n",
       "        vertical-align: middle;\n",
       "    }\n",
       "\n",
       "    .dataframe tbody tr th {\n",
       "        vertical-align: top;\n",
       "    }\n",
       "\n",
       "    .dataframe thead th {\n",
       "        text-align: right;\n",
       "    }\n",
       "</style>\n",
       "<table border=\"1\" class=\"dataframe\">\n",
       "  <thead>\n",
       "    <tr style=\"text-align: right;\">\n",
       "      <th></th>\n",
       "      <th>video</th>\n",
       "      <th>caption</th>\n",
       "    </tr>\n",
       "  </thead>\n",
       "  <tbody>\n",
       "    <tr>\n",
       "      <th>0</th>\n",
       "      <td>video7494.webm</td>\n",
       "      <td>green jeep struggling to drive over huge rocks</td>\n",
       "    </tr>\n",
       "    <tr>\n",
       "      <th>1</th>\n",
       "      <td>video7495.webm</td>\n",
       "      <td>hiking woman tourist is walking forward in mou...</td>\n",
       "    </tr>\n",
       "    <tr>\n",
       "      <th>2</th>\n",
       "      <td>video7496.webm</td>\n",
       "      <td>close up of african american doctors hands usi...</td>\n",
       "    </tr>\n",
       "  </tbody>\n",
       "</table>\n",
       "</div>"
      ],
      "text/plain": [
       "            video                                            caption\n",
       "0  video7494.webm     green jeep struggling to drive over huge rocks\n",
       "1  video7495.webm  hiking woman tourist is walking forward in mou...\n",
       "2  video7496.webm  close up of african american doctors hands usi..."
      ]
     },
     "execution_count": 10,
     "metadata": {
      "tags": []
     },
     "output_type": "execute_result"
    }
   ],
   "source": [
    "# remove numbers in captions\n",
    "\n",
    "df_test_caption.caption.replace({r\"[^a-z ]\" : ''}, inplace= True, regex = True)\n",
    "\n",
    "df_test_caption.head(3)"
   ]
  },
  {
   "cell_type": "code",
   "execution_count": null,
   "metadata": {
    "colab": {
     "base_uri": "https://localhost:8080/",
     "height": 180
    },
    "colab_type": "code",
    "id": "7irEHMXkNtyK",
    "outputId": "a7fee175-c7ce-4549-b18f-cfa839d633bf"
   },
   "outputs": [
    {
     "name": "stdout",
     "output_type": "stream",
     "text": [
      "[nltk_data] Downloading package stopwords to /root/nltk_data...\n",
      "[nltk_data]   Unzipping corpora/stopwords.zip.\n"
     ]
    },
    {
     "data": {
      "text/html": [
       "<div>\n",
       "<style scoped>\n",
       "    .dataframe tbody tr th:only-of-type {\n",
       "        vertical-align: middle;\n",
       "    }\n",
       "\n",
       "    .dataframe tbody tr th {\n",
       "        vertical-align: top;\n",
       "    }\n",
       "\n",
       "    .dataframe thead th {\n",
       "        text-align: right;\n",
       "    }\n",
       "</style>\n",
       "<table border=\"1\" class=\"dataframe\">\n",
       "  <thead>\n",
       "    <tr style=\"text-align: right;\">\n",
       "      <th></th>\n",
       "      <th>video</th>\n",
       "      <th>caption</th>\n",
       "    </tr>\n",
       "  </thead>\n",
       "  <tbody>\n",
       "    <tr>\n",
       "      <th>0</th>\n",
       "      <td>video7494.webm</td>\n",
       "      <td>green jeep struggling drive huge rocks</td>\n",
       "    </tr>\n",
       "    <tr>\n",
       "      <th>1</th>\n",
       "      <td>video7495.webm</td>\n",
       "      <td>hiking woman tourist walking forward mountains...</td>\n",
       "    </tr>\n",
       "    <tr>\n",
       "      <th>2</th>\n",
       "      <td>video7496.webm</td>\n",
       "      <td>close african american doctors hands using sph...</td>\n",
       "    </tr>\n",
       "  </tbody>\n",
       "</table>\n",
       "</div>"
      ],
      "text/plain": [
       "            video                                            caption\n",
       "0  video7494.webm             green jeep struggling drive huge rocks\n",
       "1  video7495.webm  hiking woman tourist walking forward mountains...\n",
       "2  video7496.webm  close african american doctors hands using sph..."
      ]
     },
     "execution_count": 11,
     "metadata": {
      "tags": []
     },
     "output_type": "execute_result"
    }
   ],
   "source": [
    "# setting stopwords\n",
    "\n",
    "nltk.download('stopwords')\n",
    "stopwords.words(\"english\")\n",
    "stopwordsList = stopwords.words('english')\n",
    "\n",
    "# remove stopwords\n",
    "df_test_caption.caption = df_test_caption.caption.apply(lambda a_word: \" \".join(i for i in a_word.split() if i not in stopwordsList)) \n",
    "\n",
    "df_test_caption.head(3)"
   ]
  },
  {
   "cell_type": "code",
   "execution_count": null,
   "metadata": {
    "colab": {
     "base_uri": "https://localhost:8080/",
     "height": 143
    },
    "colab_type": "code",
    "id": "2f3HuFpGNyNU",
    "outputId": "7f4703ee-1387-4b28-8cb6-65cd7eaa5ca7"
   },
   "outputs": [
    {
     "data": {
      "text/html": [
       "<div>\n",
       "<style scoped>\n",
       "    .dataframe tbody tr th:only-of-type {\n",
       "        vertical-align: middle;\n",
       "    }\n",
       "\n",
       "    .dataframe tbody tr th {\n",
       "        vertical-align: top;\n",
       "    }\n",
       "\n",
       "    .dataframe thead th {\n",
       "        text-align: right;\n",
       "    }\n",
       "</style>\n",
       "<table border=\"1\" class=\"dataframe\">\n",
       "  <thead>\n",
       "    <tr style=\"text-align: right;\">\n",
       "      <th></th>\n",
       "      <th>video</th>\n",
       "      <th>caption</th>\n",
       "    </tr>\n",
       "  </thead>\n",
       "  <tbody>\n",
       "    <tr>\n",
       "      <th>0</th>\n",
       "      <td>video7494.webm</td>\n",
       "      <td>green jeep struggling drive huge rock</td>\n",
       "    </tr>\n",
       "    <tr>\n",
       "      <th>1</th>\n",
       "      <td>video7495.webm</td>\n",
       "      <td>hiking woman tourist walking forward mountain ...</td>\n",
       "    </tr>\n",
       "    <tr>\n",
       "      <th>2</th>\n",
       "      <td>video7496.webm</td>\n",
       "      <td>close african american doctor hand using sphyg...</td>\n",
       "    </tr>\n",
       "  </tbody>\n",
       "</table>\n",
       "</div>"
      ],
      "text/plain": [
       "            video                                            caption\n",
       "0  video7494.webm              green jeep struggling drive huge rock\n",
       "1  video7495.webm  hiking woman tourist walking forward mountain ...\n",
       "2  video7496.webm  close african american doctor hand using sphyg..."
      ]
     },
     "execution_count": 12,
     "metadata": {
      "tags": []
     },
     "output_type": "execute_result"
    }
   ],
   "source": [
    "# Captions Lemmatization\n",
    "\n",
    "df_test_caption.caption = df_test_caption.caption.apply(lambda x: \" \".join([Word(i).lemmatize() for i in x.split()]))\n",
    "\n",
    "df_test_caption.head(3)"
   ]
  },
  {
   "cell_type": "markdown",
   "metadata": {
    "colab_type": "text",
    "id": "zNhPHAYQQTCQ"
   },
   "source": [
    "### TF-IDF"
   ]
  },
  {
   "cell_type": "code",
   "execution_count": null,
   "metadata": {
    "colab": {
     "base_uri": "https://localhost:8080/",
     "height": 144
    },
    "colab_type": "code",
    "id": "VU5Y1eDBOehL",
    "outputId": "6572ce4e-3de5-4b62-f6a3-620eda448165"
   },
   "outputs": [
    {
     "data": {
      "text/plain": [
       "TfidfVectorizer(analyzer='word', binary=False, decode_error='strict',\n",
       "                dtype=<class 'numpy.float64'>, encoding='utf-8',\n",
       "                input='content', lowercase=True, max_df=1.0, max_features=None,\n",
       "                min_df=1, ngram_range=(1, 1), norm='l2', preprocessor=None,\n",
       "                smooth_idf=True, stop_words=None, strip_accents=None,\n",
       "                sublinear_tf=False, token_pattern='(?u)\\\\b\\\\w\\\\w+\\\\b',\n",
       "                tokenizer=None, use_idf=True, vocabulary=None)"
      ]
     },
     "execution_count": 43,
     "metadata": {
      "tags": []
     },
     "output_type": "execute_result"
    }
   ],
   "source": [
    "# TF - IDF\n",
    "\n",
    "from sklearn.feature_extraction.text import TfidfVectorizer\n",
    "\n",
    "tf_Idf_test = TfidfVectorizer()\n",
    "X_tf_Idf_test = tf_Idf_test.fit(df_test_caption.caption)\n",
    "X_tf_Idf_test"
   ]
  },
  {
   "cell_type": "code",
   "execution_count": null,
   "metadata": {
    "colab": {},
    "colab_type": "code",
    "id": "HMh4vNi_U0lr"
   },
   "outputs": [],
   "source": [
    "# using the training data's words length for the testing\n",
    "train_len = 4542\n",
    "tokenizer_test = Tokenizer(num_words=train_len)\n",
    "tokenizer_test.fit_on_texts(list(X_tf_Idf_test.get_feature_names()))\n",
    "X_tf_Idf_test = tokenizer_test.texts_to_matrix(list(df_test_caption.caption.values),mode='binary')"
   ]
  },
  {
   "cell_type": "markdown",
   "metadata": {
    "colab_type": "text",
    "id": "brDcVVzeQmuv"
   },
   "source": [
    "### Building SVR model with TF-IDF and polynomial kernel"
   ]
  },
  {
   "cell_type": "markdown",
   "metadata": {
    "colab_type": "text",
    "id": "Mr0sxoh2SJyY"
   },
   "source": [
    "After re-running the previously best SVR model on the train set, we predict the value for the test set and save the value on the ground truth template for test-set"
   ]
  },
  {
   "cell_type": "code",
   "execution_count": null,
   "metadata": {
    "colab": {
     "base_uri": "https://localhost:8080/",
     "height": 206
    },
    "colab_type": "code",
    "id": "SjBPVlpBQ0J-",
    "outputId": "02020659-ef6c-493d-9753-a6861b79897d"
   },
   "outputs": [
    {
     "data": {
      "text/html": [
       "<div>\n",
       "<style scoped>\n",
       "    .dataframe tbody tr th:only-of-type {\n",
       "        vertical-align: middle;\n",
       "    }\n",
       "\n",
       "    .dataframe tbody tr th {\n",
       "        vertical-align: top;\n",
       "    }\n",
       "\n",
       "    .dataframe thead th {\n",
       "        text-align: right;\n",
       "    }\n",
       "</style>\n",
       "<table border=\"1\" class=\"dataframe\">\n",
       "  <thead>\n",
       "    <tr style=\"text-align: right;\">\n",
       "      <th></th>\n",
       "      <th>video</th>\n",
       "      <th>short-term_memorability</th>\n",
       "      <th>nb_short-term_annotations</th>\n",
       "      <th>long-term_memorability</th>\n",
       "      <th>nb_long-term_annotations</th>\n",
       "    </tr>\n",
       "  </thead>\n",
       "  <tbody>\n",
       "    <tr>\n",
       "      <th>0</th>\n",
       "      <td>7494</td>\n",
       "      <td>0.849599</td>\n",
       "      <td>33</td>\n",
       "      <td>0.807001</td>\n",
       "      <td>12</td>\n",
       "    </tr>\n",
       "    <tr>\n",
       "      <th>1</th>\n",
       "      <td>7495</td>\n",
       "      <td>0.851329</td>\n",
       "      <td>34</td>\n",
       "      <td>0.721529</td>\n",
       "      <td>10</td>\n",
       "    </tr>\n",
       "    <tr>\n",
       "      <th>2</th>\n",
       "      <td>7496</td>\n",
       "      <td>0.844568</td>\n",
       "      <td>32</td>\n",
       "      <td>0.788240</td>\n",
       "      <td>13</td>\n",
       "    </tr>\n",
       "    <tr>\n",
       "      <th>3</th>\n",
       "      <td>7497</td>\n",
       "      <td>0.841807</td>\n",
       "      <td>33</td>\n",
       "      <td>0.740764</td>\n",
       "      <td>10</td>\n",
       "    </tr>\n",
       "    <tr>\n",
       "      <th>4</th>\n",
       "      <td>7498</td>\n",
       "      <td>0.831410</td>\n",
       "      <td>33</td>\n",
       "      <td>0.768375</td>\n",
       "      <td>10</td>\n",
       "    </tr>\n",
       "  </tbody>\n",
       "</table>\n",
       "</div>"
      ],
      "text/plain": [
       "   video  ...  nb_long-term_annotations\n",
       "0   7494  ...                        12\n",
       "1   7495  ...                        10\n",
       "2   7496  ...                        13\n",
       "3   7497  ...                        10\n",
       "4   7498  ...                        10\n",
       "\n",
       "[5 rows x 5 columns]"
      ]
     },
     "execution_count": 47,
     "metadata": {
      "tags": []
     },
     "output_type": "execute_result"
    }
   ],
   "source": [
    "# short term prediction\n",
    "test_predictionsSVR_short = modelSVR_short.predict(X_tf_Idf_test)\n",
    "df_test_labels['short-term_memorability'] = test_predictionsSVR_short\n",
    "\n",
    "#long term prediction\n",
    "test_predictionsSVR_long = modelSVR_long.predict(X_tf_Idf_test)\n",
    "df_test_labels['long-term_memorability'] = test_predictionsSVR_long\n",
    "\n",
    "df_test_labels.head(5)"
   ]
  },
  {
   "cell_type": "markdown",
   "metadata": {
    "colab_type": "text",
    "id": "zcs_6vL3Q4b4"
   },
   "source": [
    "### Save result on test ground truth"
   ]
  },
  {
   "cell_type": "code",
   "execution_count": null,
   "metadata": {
    "colab": {},
    "colab_type": "code",
    "id": "x2Slxi3LQ_Rw"
   },
   "outputs": [],
   "source": [
    "df_test_labels.to_csv(path+'/Yong Shoun_PHO_19211938_prediction.csv', index = False)"
   ]
  }
 ],
 "metadata": {
  "colab": {
   "collapsed_sections": [],
   "name": "Yong Shoun_PHO_19211938_predicting memorability",
   "provenance": [],
   "toc_visible": true
  },
  "kernelspec": {
   "display_name": "Python 3",
   "language": "python",
   "name": "python3"
  },
  "language_info": {
   "codemirror_mode": {
    "name": "ipython",
    "version": 3
   },
   "file_extension": ".py",
   "mimetype": "text/x-python",
   "name": "python",
   "nbconvert_exporter": "python",
   "pygments_lexer": "ipython3",
   "version": "3.7.1"
  }
 },
 "nbformat": 4,
 "nbformat_minor": 4
}
